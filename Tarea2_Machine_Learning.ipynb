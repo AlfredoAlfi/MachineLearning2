{
 "cells": [
  {
   "cell_type": "markdown",
   "metadata": {},
   "source": [
    "<center>\n",
    "    <h1> INF393 - Máquinas de Aprendizaje  </h1>\n",
    "    <h2> Tarea 2 </h2>\n",
    "    <h3> Universidad Técnica Federico Santa Maria </h3>\n",
    "    \n",
    "</center>\n",
    "\n",
    "_Noviembre 2017_\n",
    "<p>Profesor: R. Ñanculef</p>\n",
    " <p>Ayudante: Francisco Mena</p>\n",
    " <p>Integrantes: \n",
    " <br>Alfredo Silva,\n",
    " 201373511-8</br>\n",
    " <br>Fernando Llorens, 201373528-2</br>\n",
    " \n",
    "\n",
    " \n",
    "</p>"
   ]
  },
  {
   "cell_type": "markdown",
   "metadata": {},
   "source": [
    "<h1>1. Tipos de fronteras en Clasificación</h1>\n",
    "<p>Como se ha discutido en clases, los problemas de clasificación pueden ser representados de distintas\n",
    "maneras, en donde estas representaciones definen un espacio de entrada del dominio de los datos (RX). Los\n",
    "ejemplos dentro del espacio de entrada (manifold) pueden tener distintas formas, donde estas indicarán si es\n",
    "que estos ejemplos tendrán fronteras lineales o no. Con el propósito de analizar los distintos tipos de fronteras\n",
    "que definen los algoritmos de clasificación, se trabajará con un dataset sintético lo cual es ideal para analizar\n",
    "los diferentes tipos.</p>\n",
    "\n",
    "<p>Este dataset está en un espacio de 2 dimensiones y es conformado por dos conjuntos de datos, pudiendo\n",
    "ver que la frontera entre ellos claramente no es lineal. Uno de los conjuntos de datos es ovalado, generado\n",
    "a través de una distribución multivariada gaussiana, el otro conjunto de datos es una semi-luna, generado a\n",
    "través de funciones senos y cosenos. Se agrega ruido en los conjuntos para que no sea un problema trivial. El\n",
    "código que los genera es el siguiente:\n",
    "</p>\n"
   ]
  },
  {
   "cell_type": "code",
   "execution_count": 9,
   "metadata": {
    "collapsed": true
   },
   "outputs": [],
   "source": [
    "import numpy as np\n",
    "n_samples=500\n",
    "mean = (0,-4)\n",
    "C = np.array([[0.3, 0.1], [0.1, 1.5]])\n",
    "datos1 = np.random.multivariate_normal(mean, C, n_samples)\n",
    "outer_circ_x = np.cos(np.linspace(0, np.pi, n_samples))*3\n",
    "outer_circ_y = np.sin(np.linspace(0, np.pi, n_samples))*3\n",
    "datos2 = np.vstack((outer_circ_x,outer_circ_y)).T\n",
    "from sklearn.utils import check_random_state\n",
    "generator = check_random_state(10)\n",
    "datos2 += generator.normal(scale=0.3, size=datos2.shape)"
   ]
  },
  {
   "cell_type": "markdown",
   "metadata": {},
   "source": [
    "<p>(a) Construya el conjunto de datos (dataset) común con los dos conjuntos generados. Luego se realiza un\n",
    "shift desde el conjunto 2 al 1, esto se puede ver en la imagen anterior, donde el conjunto de color\n",
    "naranjo (media luna) tiene puntos azules a la derecha pertenecientes al otro conjunto, esto es con\n",
    "el mismo propósito de trabajar con un dataset no ideal. Determine cuántos registros contiene cada\n",
    "conjunto y visualícelos</p>"
   ]
  },
  {
   "cell_type": "code",
   "execution_count": 36,
   "metadata": {},
   "outputs": [
    {
     "data": {
      "image/png": "[encoded data removed]",
      "text/plain": [
       "<matplotlib.figure.Figure at 0xe518eb8>"
      ]
     },
     "metadata": {},
     "output_type": "display_data"
    }
   ],
   "source": [
    "import numpy as np\n",
    "X = np.concatenate((datos1, datos2), axis=0)\n",
    "n = 20 #ruido/noise\n",
    "y1 = np.zeros(datos1.shape[0]+n)\n",
    "y2 = np.ones(datos2.shape[0]-n)\n",
    "y = np.concatenate((y1,y2),axis=0)\n",
    "\n"
   ]
  },
  {
   "cell_type": "markdown",
   "metadata": {},
   "source": [
    "<p>Para visualizar las fronteras de los distintos algoritmos clasificadores utilice el siguiente código:</p>"
   ]
  },
  {
   "cell_type": "code",
   "execution_count": null,
   "metadata": {
    "collapsed": true
   },
   "outputs": [],
   "source": [
    "import matplotlib.pyplot as plt\n",
    "def visualize_border(model,x,y,title=\"\"):\n",
    "    fig = plt.figure(figsize=(12,6))\n",
    "    4 plt.scatter(x[:,0], x[:,1], s=50, c=y, cmap=plt.cm.winter)\n",
    "    h = .02 # step size in the mesh\n",
    "    x_min, x_max = x[:, 0].min() - 1, x[:, 0].max() + 1\n",
    "    y_min, y_max = x[:, 1].min() - 1, x[:, 1].max() + 1\n",
    "    xx, yy = np.meshgrid(np.arange(x_min, x_max, h),np.arange(y_min, y_max, h))\n",
    "    Z = model.predict(np.c_[xx.ravel(), yy.ravel()])\n",
    "    Z = Z.reshape(xx.shape)\n",
    "    plt.contour(xx, yy, Z, cmap=plt.cm.Paired)\n",
    "    plt.title(title)\n",
    "    plt.show()"
   ]
  },
  {
   "cell_type": "markdown",
   "metadata": {},
   "source": [
    "<p>(b) Entrene el clasificador Linear Discriminant Analysis (LDA) y visualice la frontera de decisión que\n",
    "define este algoritmo. Analice cualitativamente lo que observa.\n",
    "</p>"
   ]
  },
  {
   "cell_type": "code",
   "execution_count": null,
   "metadata": {
    "collapsed": true
   },
   "outputs": [],
   "source": [
    "from sklearn.discriminant_analysis import LinearDiscriminantAnalysis as LDA\n",
    "model = LDA()\n",
    "model.fit(X,y)\n",
    "visualize_border(model,X,y,\"LDA\")"
   ]
  },
  {
   "cell_type": "markdown",
   "metadata": {},
   "source": [
    "<p>(c) Entrene el clasificador Quadratic Discriminant Analysis (QDA) y visualice la frontera de decisión que\n",
    "define este algoritmo. Analice cualitativamente lo que observa y compare con LDA, en qué difieren y\n",
    "en qué se asemejan ¿Qué distribución de probabilidad asumen cada uno?\n",
    "</p>"
   ]
  },
  {
   "cell_type": "code",
   "execution_count": null,
   "metadata": {
    "collapsed": true
   },
   "outputs": [],
   "source": [
    "from sklearn.discriminant_analysis import QuadraticDiscriminantAnalysis as QDA\n",
    "model = QDA()\n",
    "model.fit(X,y)"
   ]
  },
  {
   "cell_type": "markdown",
   "metadata": {},
   "source": [
    "<p>(d) Compare cuantitativamente los clasificadores LDA Y QDA en este dataset sintético mediante la métrica\n",
    "de error de clasificación.</p>"
   ]
  },
  {
   "cell_type": "code",
   "execution_count": null,
   "metadata": {
    "collapsed": true
   },
   "outputs": [],
   "source": [
    "from sklearn.metrics import accuracy_score\n",
    "print(\"Miss Classification Loss: %f\"%(1-accuracy_score(y_true, y_pred)))"
   ]
  },
  {
   "cell_type": "markdown",
   "metadata": {},
   "source": [
    "<p>Para lo que sigue de la actividad se trabajará con una widget interactiva para sintonizar los parámetros\n",
    "de regularización de los distintos algoritmos. Por ello cada vez que se modifique el parámetro en la ventana\n",
    "se entrenará el modelo y se visualizará la frontera en la misma imagen.\n",
    "</p>"
   ]
  },
  {
   "cell_type": "code",
   "execution_count": null,
   "metadata": {
    "collapsed": true
   },
   "outputs": [],
   "source": [
    "from ipywidgets import interactive\n",
    "def visualize_border_interactive(param):\n",
    "    model = train_model(param)\n",
    "    visualize_border(model,X,y)"
   ]
  },
  {
   "cell_type": "markdown",
   "metadata": {},
   "source": [
    "<p>(e) Construya una función que entrene/ajuste un modelo de Regresión Logística Regularizado (utilizando\n",
    "como penalizador la norma l2), experimente con distintos valores del parámetro de regularización\n",
    "mediante el gráfico interactivo. Explique el significado y efecto esperado de este parámetro. Analice\n",
    "cualitativamente lo observado.</p>"
   ]
  },
  {
   "cell_type": "code",
   "execution_count": null,
   "metadata": {
    "collapsed": true
   },
   "outputs": [],
   "source": [
    "from sklearn.linear_model import LogisticRegression as LR\n",
    "def train_model(param):\n",
    "    model=LR() #define your model\n",
    "    model.set_params(C=param,penalty='l2')\n",
    "    model.fit(X,y)\n",
    "    return model\n",
    "p_min = #define your range\n",
    "p_max = #define your range\n",
    "interactive(visualize_border_interactive,param=(p_min,p_max))"
   ]
  },
  {
   "cell_type": "markdown",
   "metadata": {},
   "source": [
    "<p>(f) Construya una función que entrene/ajuste una Máquina de Vectores de Soporte (SVM) Lineal. Mediante\n",
    "la imagen interactiva explore diferentes valores del parámetro de regularización C. Discuta el significado\n",
    "y efecto esperado de este parámetro. Analice cualitativamente lo observado.</p>"
   ]
  },
  {
   "cell_type": "code",
   "execution_count": null,
   "metadata": {
    "collapsed": true
   },
   "outputs": [],
   "source": [
    "from sklearn.svm import SVC as SVM #SVC is for classification\n",
    "def train_model(param):\n",
    "    model= SVM()\n",
    "    model.set_params(C=param,kernel='linear')\n",
    "    model.fit(X,y)\n",
    "    return model\n",
    "#use interactive"
   ]
  },
  {
   "cell_type": "markdown",
   "metadata": {},
   "source": [
    "<p>(g) Construya una función que entrene/ajuste una Máquina de Vectores de Soporte (SVM) no Lineal.\n",
    "Mediante la imagen interactiva explore diferentes valores del parámetro de regularización C y con\n",
    "diferentes kernels. Discuta el significado y efecto esperado de este parámetro. Analice cualitativamente\n",
    "lo observado.</p>"
   ]
  },
  {
   "cell_type": "code",
   "execution_count": null,
   "metadata": {
    "collapsed": true
   },
   "outputs": [],
   "source": [
    "#edit the train_model function\n",
    "model.set_params(C=param,kernel='rbf') #try poly"
   ]
  },
  {
   "cell_type": "markdown",
   "metadata": {},
   "source": [
    "<p>(h) Construya un Arbol de Decisión de múltiples niveles para la clasificación del problema. Puede utilizar\n",
    "el criterio y la función de partición que prefiera. Mediante la imagen interactiva explore diferentes\n",
    "valores del parámetro de máxima profunidad del árbol. Discuta el significado y efecto esperado de este\n",
    "parámetro. Analice cualitativamente lo observado.</p>"
   ]
  },
  {
   "cell_type": "code",
   "execution_count": null,
   "metadata": {
    "collapsed": true
   },
   "outputs": [],
   "source": [
    "from sklearn.tree import DecisionTreeClassifier as Tree\n",
    "model = Tree() #edit the train_model function\n",
    "model.set_params(max_depth=param,criterion='gini',splitter='best')"
   ]
  },
  {
   "cell_type": "markdown",
   "metadata": {},
   "source": [
    "<p>(i) Construya un algoritmo k-NN para la clasificación del problema. Mediante la imagen interactiva explore\n",
    "diferentes valores del parámetro k. Discuta el significado y efecto esperado de este parámetro. Analice\n",
    "cualitativamente lo observado.</p>"
   ]
  },
  {
   "cell_type": "code",
   "execution_count": null,
   "metadata": {
    "collapsed": true
   },
   "outputs": [],
   "source": [
    "from sklearn.neighbors import KNeighborsClassifier\n",
    "model = KNeighborsClassifier()\n",
    "model.set_params(n_neighbors=param)"
   ]
  },
  {
   "cell_type": "markdown",
   "metadata": {},
   "source": [
    "<h1>2. Análisis de audios como datos brutos</h1>\n",
    "<p>Distintos tipos de datos han sido tratados en el área de Machine Learning, donde el análisis de estos y\n",
    "el manejo para poder dejarlos en una representación que se pueda entregar como entrada al algoritmo es\n",
    "crucial. El manejo sobre los datos brutos se denomina pre-procesamiento y existen distintos dependiento del\n",
    "tipo de datos y los distintos diminios de problemas, tales como imágenes, audios, texto.\n",
    "En esta actividad se trabajará con datos de audios los cuales son directamente extraídos desde datos fuentes\n",
    ".wav, lo que corresponde a una señal de sonido en diferentes tiempos.\n",
    "</p>\n",
    "<p>El dataset se denomina Heartbeat Sounds y es presentado en la plataforma Kaggle a través del siguiente\n",
    "link. Este dataset consta de grabaciones de sonidos de latidos cardíacos normales y anormales, con distintas\n",
    "categorías para los latidos anormales.\n",
    "Para la tarea se trabajará con el dataset A presente en la data, el cual corresponde a datos generados desde\n",
    "la vía pública mediante la aplicación de Iphone iStethoscope Pro. El objetivo será el de clasificar cada sonido\n",
    "como latido cardíaco normal o una de las las subcategorías de anormal (Murmur, Extra Heart Sound, Artifact),\n",
    "por lo que se trata de un problema de clasificación múltiple con 4 clases. Las distintas clasificaciones\n",
    "para los sonidos son explicadas en el sitio de Kaggle.\n",
    "</p>\n",
    "<p>Para leer y trabajar los archivos de extensión .wav se utilizará el siguiente código:\n",
    "</p>"
   ]
  },
  {
   "cell_type": "code",
   "execution_count": 23,
   "metadata": {},
   "outputs": [],
   "source": [
    "from scipy.io import wavfile\n",
    "def clean_filename(fname, string):\n",
    "    file_name = fname.split('/')[1]\n",
    "    if file_name[:2] == '__':\n",
    "        file_name = string + file_name\n",
    "    return file_name\n",
    "SAMPLE_RATE = 44100\n",
    "def load_wav_file(name, path):\n",
    "    s, b = wavfile.read(path + name)\n",
    "    assert s == SAMPLE_RATE\n",
    "    return b"
   ]
  },
  {
   "cell_type": "markdown",
   "metadata": {},
   "source": [
    "<p>(a) Construya un dataframe con los datos a analizar. Describa el dataset y determine cuántos registros hay\n",
    "por clase</p>"
   ]
  },
  {
   "cell_type": "code",
   "execution_count": 34,
   "metadata": {},
   "outputs": [
    {
     "name": "stdout",
     "output_type": "stream",
     "text": [
      "<class 'pandas.core.frame.DataFrame'>\n",
      "RangeIndex: 176 entries, 0 to 175\n",
      "Data columns (total 4 columns):\n",
      "dataset     176 non-null object\n",
      "fname       176 non-null object\n",
      "label       124 non-null object\n",
      "sublabel    0 non-null float64\n",
      "dtypes: float64(1), object(3)\n",
      "memory usage: 5.6+ KB\n",
      "set([nan, 'extrahls', 'murmur', 'artifact', 'normal'])\n",
      "5\n"
     ]
    }
   ],
   "source": [
    "import pandas as pd\n",
    "import numpy as np\n",
    "df = pd.read_csv('./heartbeat-sounds/set_a.csv')\n",
    "df.shape\n",
    "df.info()\n",
    "df.describe()\n",
    "clases=set(df['label'].values)\n",
    "print(clases)\n",
    "print(len(clases))"
   ]
  },
  {
   "cell_type": "code",
   "execution_count": 35,
   "metadata": {},
   "outputs": [
    {
     "data": {
      "text/html": [
       "<div>\n",
       "<style>\n",
       "    .dataframe thead tr:only-child th {\n",
       "        text-align: right;\n",
       "    }\n",
       "\n",
       "    .dataframe thead th {\n",
       "        text-align: left;\n",
       "    }\n",
       "\n",
       "    .dataframe tbody tr th {\n",
       "        vertical-align: top;\n",
       "    }\n",
       "</style>\n",
       "<table border=\"1\" class=\"dataframe\">\n",
       "  <thead>\n",
       "    <tr style=\"text-align: right;\">\n",
       "      <th></th>\n",
       "      <th>dataset</th>\n",
       "      <th>fname</th>\n",
       "      <th>label</th>\n",
       "      <th>sublabel</th>\n",
       "    </tr>\n",
       "  </thead>\n",
       "  <tbody>\n",
       "    <tr>\n",
       "      <th>0</th>\n",
       "      <td>a</td>\n",
       "      <td>set_a/artifact__201012172012.wav</td>\n",
       "      <td>artifact</td>\n",
       "      <td>NaN</td>\n",
       "    </tr>\n",
       "    <tr>\n",
       "      <th>1</th>\n",
       "      <td>a</td>\n",
       "      <td>set_a/artifact__201105040918.wav</td>\n",
       "      <td>artifact</td>\n",
       "      <td>NaN</td>\n",
       "    </tr>\n",
       "    <tr>\n",
       "      <th>2</th>\n",
       "      <td>a</td>\n",
       "      <td>set_a/artifact__201105041959.wav</td>\n",
       "      <td>artifact</td>\n",
       "      <td>NaN</td>\n",
       "    </tr>\n",
       "    <tr>\n",
       "      <th>3</th>\n",
       "      <td>a</td>\n",
       "      <td>set_a/artifact__201105051017.wav</td>\n",
       "      <td>artifact</td>\n",
       "      <td>NaN</td>\n",
       "    </tr>\n",
       "    <tr>\n",
       "      <th>4</th>\n",
       "      <td>a</td>\n",
       "      <td>set_a/artifact__201105060108.wav</td>\n",
       "      <td>artifact</td>\n",
       "      <td>NaN</td>\n",
       "    </tr>\n",
       "  </tbody>\n",
       "</table>\n",
       "</div>"
      ],
      "text/plain": [
       "  dataset                             fname     label  sublabel\n",
       "0       a  set_a/artifact__201012172012.wav  artifact       NaN\n",
       "1       a  set_a/artifact__201105040918.wav  artifact       NaN\n",
       "2       a  set_a/artifact__201105041959.wav  artifact       NaN\n",
       "3       a  set_a/artifact__201105051017.wav  artifact       NaN\n",
       "4       a  set_a/artifact__201105060108.wav  artifact       NaN"
      ]
     },
     "execution_count": 35,
     "metadata": {},
     "output_type": "execute_result"
    }
   ],
   "source": [
    "df.head()"
   ]
  },
  {
   "cell_type": "markdown",
   "metadata": {},
   "source": [
    "<p>(b) Lea los archivos .wav y transformelos en secuencias de tiempo. Realice un padding de ceros al final de\n",
    "cada secuencia para que todas queden representadas con la misma cantidad de elementos, explique la\n",
    "importancia de realizar este paso.</p>"
   ]
  },
  {
   "cell_type": "code",
   "execution_count": 39,
   "metadata": {},
   "outputs": [],
   "source": [
    "def padd_zeros(array,length):\n",
    "    aux = np.zeros(length)\n",
    "    aux[:array.shape[0]] = array\n",
    "    return aux\n",
    "\n",
    "new_df = pd.DataFrame({'file_name' : df['fname'].apply(clean_filename,string='Aunlabelledtest')})\n",
    "new_df['time_series'] = new_df['file_name'].apply(load_wav_file, path='./heartbeat-sounds/set_a/')\n",
    "new_df['len_series'] = new_df['time_series'].apply(len)\n",
    "new_df['time_series']=new_df['time_series'].apply(padd_zeros,length=max(new_df['len_series']))\n"
   ]
  },
  {
   "cell_type": "markdown",
   "metadata": {},
   "source": [
    "<p>\n",
    "Se necesita hacer el padding de 0, porque todas las entradas a una máquina de aprendizaje en cuestión deben tener la misma cantidad de dimenciones, es decir si una maquina acepta vectores de tamaño $d$, entonces cualquier entrada ya sea de entrenamiento o de test deben cumplir con tener dimención $d$.\n",
    "</p>"
   ]
  },
  {
   "cell_type": "markdown",
   "metadata": {},
   "source": [
    "<p>(c) Manipule los datos y cambie las etiquetas de los audios por otras asignadas por un doctor experto,\n",
    "el cual afirma que estos cambios son requeridos. Vuelva a determinar cuántos registros hay por clase.\n",
    "Nótese que ahora son 3 clases ¿Explique la problemática de tener etiquetas mal asignadas en los datos?\n",
    "¿Un solo dato puede afectar esto?</p>\n"
   ]
  },
  {
   "cell_type": "code",
   "execution_count": 43,
   "metadata": {},
   "outputs": [
    {
     "name": "stdout",
     "output_type": "stream",
     "text": [
      "set(['normal/extrahls', 'murmur', 'artifact'])\n",
      "3\n",
      " \n",
      "Frecuencia de datos en las clases:\n",
      "normal/extrahls = 65\n",
      "murmur = 53\n",
      "artifact = 58\n"
     ]
    }
   ],
   "source": [
    "new_labels =[0, 0, 0, 0, 0, 0, 0, 0, 0, 0, 0, 0, 0, 0, 0, 0, 0, 0, 0, 0, 0, 0, 0, 0, 0,\n",
    "0, 0, 0, 0, 0, 0, 0, 0, 0, 0, 0, 0, 0, 0, 0, 2, 1, 1, 1, 1, 1, 1, 1, 1, 1,\n",
    "1, 1, 1, 1, 1, 2, 1, 1, 1, 2, 2, 2, 1, 1, 2, 1, 2, 2, 1, 2, 2, 2, 2, 2, 2,\n",
    "2, 2, 2, 2, 2, 2, 2, 2, 2, 2, 2, 2, 2, 2, 2, 2, 2, 2, 1, 1, 1, 1, 1, 1, 1,\n",
    "1, 2, 1, 1, 1, 1, 1, 2, 1, 1, 1, 1, 1, 1, 1, 2, 2, 1, 1, 1, 1, 1, 2, 1, 0,\n",
    "2, 2, 1, 1, 1, 1, 1, 0, 1, 0, 1, 1, 1, 2, 1, 0, 1, 1, 1, 1, 1, 2, 0, 0, 0,\n",
    "0, 0, 0, 0, 1, 0, 0, 0, 0, 0, 0, 1, 0, 2, 1, 2, 2, 2, 2, 2, 2, 2, 2, 2, 2, 2]\n",
    "labels = ['artifact','normal/extrahls', 'murmur']\n",
    "new_df['target'] = [labels[i] for i in new_labels]\n",
    "\n",
    "clases=set(new_df['target'].values)\n",
    "print(clases)\n",
    "print(len(clases))\n",
    "print(\" \")\n",
    "\n",
    "import collections\n",
    "counter=collections.Counter(new_df['target'].values)\n",
    "print(\"Frecuencia de datos en las clases:\")\n",
    "for i in range(len(counter.values())):\n",
    "    print(\"{} = {}\".format(counter.keys()[i],\n",
    "                             counter.values()[i]))"
   ]
  },
  {
   "cell_type": "markdown",
   "metadata": {},
   "source": [
    "<p>\n",
    "Habian 5 clases, ahora hay 3. Se obvio la existencia de NaN y se fusionó la clase normal con extrahls para formar solo una.\n",
    "</p>\n",
    "<p>\n",
    "Si los datos estan mal etiquetados desde un inicio, entiendase por esto que existen datos que en realidad corresponden a una clase, pero se encuentran catalogados como otra distinta a esta, las máquinas no podrán aprender como clasificar datos futuros de manera correcta, ya que desde el vamos aprendieron reglas incorrectas, podría provocar dos cosas en general, primero que dos o más clases no puedan ser distinguidas a futuro o bien que si haga distinciones entre ellas, pero de manera erronea. A priori y sin asumir nada no se podría decir si solo un dato mal etiquetado pueda causar estragos notables en la máquina, pero dependerá mucho del tipo de máquina que se esté entrando, de cuantos datos de entrenamiento se tengan y además de cuantos ejemplos por clase se tengan. \n",
    "</p>"
   ]
  },
  {
   "cell_type": "markdown",
   "metadata": {},
   "source": [
    "<p>(d) Codifique las distintas clases a valores numéricos para que puedan ser trabajados por los algoritmos\n",
    "clasificadores.</p>"
   ]
  },
  {
   "cell_type": "code",
   "execution_count": 45,
   "metadata": {},
   "outputs": [
    {
     "name": "stdout",
     "output_type": "stream",
     "text": [
      "set([0, 1, 2])\n"
     ]
    }
   ],
   "source": [
    "new_df[\"target\"] = new_df[\"target\"].astype('category')\n",
    "cat_columns = new_df.select_dtypes(['category']).columns\n",
    "new_df[cat_columns] = new_df[cat_columns].apply(lambda x: x.cat.codes)\n",
    "\n",
    "clases=set(new_df['target'].values)\n",
    "print(clases)"
   ]
  },
  {
   "cell_type": "markdown",
   "metadata": {},
   "source": [
    "<p>(e) Desordene los datos, evitando así el orden en el que vienen la gran mayoría de las etiquetas. Cree la\n",
    "matriz que conforma a los datos en sus dimensiones sin preprocesar, es decir, cada ejemplo es una\n",
    "secuencia de amplitudes en el tiempo. ¿Las dimensiones de ésta indica que puede generar problemas?\n",
    "¿De qué tipo?</p>"
   ]
  },
  {
   "cell_type": "code",
   "execution_count": 46,
   "metadata": {},
   "outputs": [
    {
     "data": {
      "text/plain": [
       "(176L, 396900L)"
      ]
     },
     "execution_count": 46,
     "metadata": {},
     "output_type": "execute_result"
    }
   ],
   "source": [
    "new_df = new_df.sample(frac=1,random_state=44)\n",
    "X = np.stack(new_df['time_series'].values, axis=0)\n",
    "y = new_df.target.values\n",
    "X.shape"
   ]
  },
  {
   "cell_type": "markdown",
   "metadata": {},
   "source": [
    "<p>\n",
    "La primera dimención es de 176, bastante razonable, pero la segunda es de 393900, bastante más dimenciones de las que generalmente se habian trabajado en el curso hasta ahora. Intuimos que puede causar problemas en tiempos de procesamiento, además para casi cualquiera de las máquinas que conocemos si se tienen 176 datos y 393900 features probablemente haya problemas al entrenar, ya que el tamaño de las características tiene varias ordenes de magnitud más grandes que la cantidad de datos. (Overfitting(?))\n",
    "</p>"
   ]
  },
  {
   "cell_type": "markdown",
   "metadata": {},
   "source": [
    "<p>(f) Para pre procesar la secuencia en el tiempo realice una transformada de fourier discreta para pasar\n",
    "los datos desde el dominio de tiempos al dominio de frecuencias presentes en la señal de sonido.\n",
    "</p>"
   ]
  },
  {
   "cell_type": "code",
   "execution_count": 47,
   "metadata": {
    "collapsed": true
   },
   "outputs": [],
   "source": [
    "X_fourier = np.abs(np.fft.fft(X))"
   ]
  },
  {
   "cell_type": "markdown",
   "metadata": {},
   "source": [
    "<p>(g) Para seguir con el pre-procesamiento realice un muestreo representativo de los datos a través de una\n",
    "técnica de muestreo especializada en secuencias ¿En qué beneficia este paso? ¿Cómo podría determinar\n",
    "si el muestro es representativo?</p>\n"
   ]
  },
  {
   "cell_type": "code",
   "execution_count": 48,
   "metadata": {},
   "outputs": [
    {
     "data": {
      "text/plain": [
       "(176L, 100000L)"
      ]
     },
     "execution_count": 48,
     "metadata": {},
     "output_type": "execute_result"
    }
   ],
   "source": [
    "from scipy import signal\n",
    "X_resampled = []\n",
    "for i in range(X_fourier.shape[0]):\n",
    "    sequence = X_fourier[i,:].copy()\n",
    "    resampled_sequence = signal.resample(sequence, 100000)\n",
    "    X_resampled.append(resampled_sequence)\n",
    "X_resampled = np.array(X_resampled)\n",
    "X_resampled.shape"
   ]
  },
  {
   "cell_type": "markdown",
   "metadata": {},
   "source": [
    "<p>\n",
    "Claramente la cantidad de features se redujo considerablemente, al rededor de a un cuarto de la cantidad original, de esta manera se podría sobrellevar mejor el problema de overfitting desde antes de entrenar.\n",
    "</p>\n",
    "## aun no se como determina que el muestro es representativo"
   ]
  },
  {
   "cell_type": "markdown",
   "metadata": {},
   "source": [
    "<p>(h) Genere un conjunto de pruebas mediante la técnica hold-out validation para verificar la calidad de los\n",
    "clasificadores. ¿Cuántas clases tiene y de qué tamaño queda cada conjunto?</p>"
   ]
  },
  {
   "cell_type": "code",
   "execution_count": 63,
   "metadata": {},
   "outputs": [
    {
     "name": "stdout",
     "output_type": "stream",
     "text": [
      "(132L, 100000L)\n",
      "(132L,)\n",
      "set([0, 1, 2])\n",
      "Son 3 clases en total.\n",
      "Frecuencia de datos en las clases:\n",
      "0 = 48\n",
      "1 = 40\n",
      "2 = 44\n"
     ]
    }
   ],
   "source": [
    "from sklearn.model_selection import train_test_split\n",
    "X_train, X_test, y_train, y_test = train_test_split(X_resampled, y, test_size=0.25, random_state=42)\n",
    "print(X_train.shape)\n",
    "print(y_train.shape)\n",
    "clases= set(y_train)\n",
    "print(clases)\n",
    "print(\"Son \"+str(len(clases))+\" clases en total.\")\n",
    "\n",
    "import collections\n",
    "counter=collections.Counter(y_train)\n",
    "print(\"Frecuencia de datos en las clases:\")\n",
    "for i in range(len(counter.values())):\n",
    "    print(\"{} = {}\".format(counter.keys()[i],\n",
    "                             counter.values()[i]))"
   ]
  },
  {
   "cell_type": "markdown",
   "metadata": {},
   "source": [
    "<p>(i) Realice un proceso de estandarizar los datos para ser trabajados adecuadamente. Recuerde que solo se\n",
    "debe ajustar (calcular media y desviación estándar) con el conjunto de entrenamiento.</p>"
   ]
  },
  {
   "cell_type": "code",
   "execution_count": 65,
   "metadata": {},
   "outputs": [
    {
     "name": "stdout",
     "output_type": "stream",
     "text": [
      "[[-0.37737569 -0.18692772 -0.59367709 ..., -0.15189885 -0.59367709\n",
      "  -0.18692772]\n",
      " [-0.37530838 -0.35122933 -0.54639495 ..., -0.32832746 -0.54639495\n",
      "  -0.35122933]\n",
      " [-0.69520971 -0.59947584 -0.82213478 ..., -0.71478577 -0.82213478\n",
      "  -0.59947584]\n",
      " ..., \n",
      " [-0.55255253 -0.43353554 -0.60758765 ..., -0.57625178 -0.60758765\n",
      "  -0.43353554]\n",
      " [ 1.30332045 -0.16440559  2.61549841 ..., -1.24105353  2.61549841\n",
      "  -0.16440559]\n",
      " [ 1.68802093  2.40877588  2.55374423 ...,  2.46926893  2.55374423\n",
      "   2.40877588]]\n"
     ]
    }
   ],
   "source": [
    "from sklearn.preprocessing import StandardScaler\n",
    "std = StandardScaler(with_mean=True, with_std=True)\n",
    "std.fit(X_train)\n",
    "X_train = std.transform(X_train)\n",
    "X_test = std.transform(X_test)\n",
    "\n",
    "print(X_train[:10])"
   ]
  },
  {
   "cell_type": "markdown",
   "metadata": {},
   "source": [
    "<p>(j) Realice una reducción de dimensionalidad a través de la técnica PCA, para representar los datos en\n",
    "d = 2 dimensiones. Recuerde que solo se debe ajustar (encontrar las componentes principales) con el\n",
    "conjunto de entrenamiento. Visualice apropiadamente la proyección en 2 dimensiones.</p>"
   ]
  },
  {
   "cell_type": "code",
   "execution_count": 70,
   "metadata": {},
   "outputs": [
    {
     "name": "stdout",
     "output_type": "stream",
     "text": [
      "(132L, 2L)\n"
     ]
    },
    {
     "data": {
      "image/png": "[encoded data removed]",
      "text/plain": [
       "<matplotlib.figure.Figure at 0x132c2898>"
      ]
     },
     "metadata": {},
     "output_type": "display_data"
    }
   ],
   "source": [
    "from sklearn.decomposition import PCA\n",
    "d=2\n",
    "pca_model = PCA(n_components=d)\n",
    "pca_model.fit(X_train)\n",
    "X_pca_train = pca_model.transform(X_train)\n",
    "X_pca_test = pca_model.transform(X_test)\n",
    "\n",
    "print(X_pca_train.shape)\n",
    "\n",
    "import matplotlib.pylab as plt\n",
    "plt.figure(figsize=(12,8),facecolor='1.0') \n",
    "plt.scatter(X_pca_train[:][0],X_pca_train[:][1])\n",
    "plt.title(\"Visualizacion de proyecciones\", size=28)\n",
    "plt.xlabel(\"Primera Dimencion\", size=24)\n",
    "plt.ylabel(\"Segunda Dimencion\", size=24)\n",
    "plt.tick_params(labelsize=16)\n",
    "plt.show()"
   ]
  },
  {
   "cell_type": "markdown",
   "metadata": {},
   "source": [
    "<p>(k) Entrene un modelo de Regresión Logística variando el parámetro de regularizacion C construyendo un\n",
    "gráfico resumen del error en función de este hiper-parámetro. Además entrene una Máquina de Soporte\n",
    "Vectorial (SVM) con kernel lineal, variando el hiper-parámetro de regularizacion C en el mismo rango\n",
    "que para la Regresión Logística, construyendo el mismo gráfico resumen. Compare.\n",
    "</p>"
   ]
  },
  {
   "cell_type": "code",
   "execution_count": 87,
   "metadata": {},
   "outputs": [
    {
     "name": "stdout",
     "output_type": "stream",
     "text": [
      "Score de LR C=0.0001: 0.568181818182\n",
      "Score de LR C=0.01: 0.568181818182\n",
      "Score de LR C=0.1: 0.545454545455\n",
      "Score de LR C=1: 0.545454545455\n",
      "Score de LR C=10: 0.522727272727\n",
      "Score de LR C=100: 0.545454545455\n",
      "Score de LR C=1000: 0.545454545455\n"
     ]
    },
    {
     "data": {
      "image/png": "[encoded data removed]",
      "text/plain": [
       "<matplotlib.figure.Figure at 0x1823cc18>"
      ]
     },
     "metadata": {},
     "output_type": "display_data"
    },
    {
     "name": "stdout",
     "output_type": "stream",
     "text": [
      "Score de SVM C=0.0001: 0.545454545455\n",
      "Score de SVM C=0.01: 0.568181818182\n",
      "Score de SVM C=0.1: 0.545454545455\n",
      "Score de SVM C=1: 0.545454545455\n",
      "Score de SVM C=10: 0.545454545455\n",
      "Score de SVM C=100: 0.545454545455\n",
      "Score de SVM C=1000: 0.590909090909\n"
     ]
    },
    {
     "data": {
      "image/png": "[encoded data removed]",
      "text/plain": [
       "<matplotlib.figure.Figure at 0x1d3575c0>"
      ]
     },
     "metadata": {},
     "output_type": "display_data"
    }
   ],
   "source": [
    "Cs = [0.0001,0.01,0.1,1,10,100,1000]\n",
    "errRL=[]\n",
    "from sklearn.linear_model import LogisticRegression\n",
    "for i in Cs:\n",
    "    model = LogisticRegression(C=i)\n",
    "    model.fit(X_pca_train,y_train)\n",
    "\n",
    "    predTestLR = model.predict(X_pca_test)\n",
    "\n",
    "    from sklearn.metrics import accuracy_score\n",
    "    errorTestLR = accuracy_score(predTestLR,y_test)\n",
    "    print(\"Score de LR C=\"+str(i)+\": \"+str(errorTestLR))\n",
    "    errRL.append(errorTestLR)\n",
    "# log\n",
    "import matplotlib.pyplot as plt\n",
    "\n",
    "plt.plot(Cs, errRL)\n",
    "plt.xscale('log')\n",
    "plt.title('Error de RL (Prueba)')\n",
    "plt.show()\n",
    "\n",
    "errSVM=[]\n",
    "from sklearn.svm import SVC\n",
    "for i in Cs:\n",
    "    clf = SVC(C=i, kernel='linear')\n",
    "    clf.fit(X_pca_train, y_train)\n",
    "    \n",
    "    predTestSVR = clf.predict(X_pca_test)\n",
    "    \n",
    "    errorTestSVR = accuracy_score(predTestSVR,y_test)\n",
    "    print(\"Score de SVM C=\"+str(i)+\": \"+str(errorTestSVR))\n",
    "    errSVM.append(errorTestSVR)\n",
    "\n",
    "plt.plot(Cs, errSVM)\n",
    "plt.xscale('log')\n",
    "plt.title('Error de SVM (Prueba)')\n",
    "plt.show()  "
   ]
  },
  {
   "cell_type": "markdown",
   "metadata": {},
   "source": [
    "<p>(l) Entrene un Arbol de Decisión, con la configuración que estime conveniente, variando el hiper-parámetro\n",
    "regularizador max depth, construyendo un gráfico resumen del error en función de este parámetro.\n",
    "Compare con los modelos anteriores.</p>"
   ]
  },
  {
   "cell_type": "code",
   "execution_count": 83,
   "metadata": {},
   "outputs": [
    {
     "name": "stdout",
     "output_type": "stream",
     "text": [
      "Score de DTC(Depth =1): 0.477272727273\n",
      "Score de DTC(Depth =2): 0.522727272727\n",
      "Score de DTC(Depth =3): 0.613636363636\n",
      "Score de DTC(Depth =4): 0.590909090909\n",
      "Score de DTC(Depth =5): 0.613636363636\n",
      "Score de DTC(Depth =6): 0.613636363636\n",
      "Score de DTC(Depth =7): 0.590909090909\n",
      "Score de DTC(Depth =8): 0.590909090909\n",
      "Score de DTC(Depth =9): 0.522727272727\n",
      "Score de DTC(Depth =10): 0.568181818182\n",
      "Score de DTC(Depth =11): 0.545454545455\n",
      "Score de DTC(Depth =12): 0.522727272727\n",
      "Score de DTC(Depth =13): 0.545454545455\n",
      "Score de DTC(Depth =14): 0.545454545455\n",
      "Score de DTC(Depth =15): 0.545454545455\n",
      "Score de DTC(Depth =16): 0.522727272727\n",
      "Score de DTC(Depth =17): 0.522727272727\n",
      "Score de DTC(Depth =18): 0.522727272727\n",
      "Score de DTC(Depth =19): 0.568181818182\n",
      "Score de DTC(Depth =20): 0.545454545455\n",
      "Score de DTC(Depth =21): 0.522727272727\n",
      "Score de DTC(Depth =22): 0.545454545455\n",
      "Score de DTC(Depth =23): 0.545454545455\n",
      "Score de DTC(Depth =24): 0.522727272727\n",
      "Score de DTC(Depth =25): 0.545454545455\n",
      "Score de DTC(Depth =26): 0.522727272727\n",
      "Score de DTC(Depth =27): 0.5\n",
      "Score de DTC(Depth =28): 0.5\n",
      "Score de DTC(Depth =29): 0.5\n"
     ]
    },
    {
     "data": {
      "image/png": "[encoded data removed]",
      "text/plain": [
       "<matplotlib.figure.Figure at 0x16a7aef0>"
      ]
     },
     "metadata": {},
     "output_type": "display_data"
    }
   ],
   "source": [
    "Depths = range(1,30)\n",
    "errA=[]\n",
    "from sklearn.tree import DecisionTreeClassifier as DTC\n",
    "for d in Depths:\n",
    "    arbol = DTC(max_depth=d)\n",
    "    arbol.fit(X_pca_train, y_train)\n",
    "    \n",
    "    predTestDTC = arbol.predict(X_pca_test)\n",
    "\n",
    "    from sklearn.metrics import accuracy_score\n",
    "    errorTestDTC = accuracy_score(predTestDTC,y_test)\n",
    "    print(\"Score de DTC(Depth =\"+str(d)+\"): \"+str(errorTestDTC))\n",
    "    errA.append(errorTestDTC)\n",
    "\n",
    "import matplotlib.pyplot as plt\n",
    "plt.plot(Depths, errA)\n",
    "plt.title('Error de DTC')\n",
    "plt.show()\n"
   ]
  },
  {
   "cell_type": "markdown",
   "metadata": {},
   "source": [
    "<p>(m) Experimente con diferentes dimensiones d para la proyección de PCA con el propósito de obtener un\n",
    "modelo con menor error. Construya una tabla o gráfico resumen.</p>"
   ]
  },
  {
   "cell_type": "code",
   "execution_count": 89,
   "metadata": {},
   "outputs": [
    {
     "name": "stdout",
     "output_type": "stream",
     "text": [
      "Score de LR Dim=2: 0.522727272727\n",
      "Score de LR Dim=3: 0.568181818182\n",
      "Score de LR Dim=4: 0.681818181818\n",
      "Score de LR Dim=5: 0.681818181818\n",
      "Score de LR Dim=6: 0.727272727273\n",
      "Score de LR Dim=7: 0.75\n",
      "Score de LR Dim=8: 0.704545454545\n",
      "Score de LR Dim=9: 0.727272727273\n",
      "Score de LR Dim=10: 0.75\n"
     ]
    },
    {
     "data": {
      "image/png": "[encoded data removed]",
      "text/plain": [
       "<matplotlib.figure.Figure at 0x12ec98d0>"
      ]
     },
     "metadata": {},
     "output_type": "display_data"
    }
   ],
   "source": [
    "D = range(2,11)\n",
    "errRL = []\n",
    "from sklearn.decomposition import PCA\n",
    "for d in D:\n",
    "    pca_model = PCA(n_components=d)\n",
    "    pca_model.fit(X_train)\n",
    "    X_pca_train_n = pca_model.transform(X_train)\n",
    "    X_pca_test_n = pca_model.transform(X_test)\n",
    "\n",
    "    model = LogisticRegression(C=10)\n",
    "    model.fit(X_pca_train_n,y_train)\n",
    "    predTestLR = model.predict(X_pca_test_n)\n",
    "\n",
    "    from sklearn.metrics import accuracy_score\n",
    "    errorTestLR = accuracy_score(predTestLR,y_test)\n",
    "    print(\"Score de LR Dim=\"+str(d)+\": \"+str(errorTestLR))\n",
    "    errRL.append(errorTestLR)\n",
    "\n",
    "import matplotlib.pyplot as plt\n",
    "\n",
    "plt.plot(D, errRL)\n",
    "plt.title('Error de RL Dim variantes:')\n",
    "plt.show()"
   ]
  },
  {
   "cell_type": "markdown",
   "metadata": {},
   "source": [
    "<p>(n) Realice otra reducción de dimensionalidad ahora a través de la técnica LDA, para representar los datos\n",
    "en d = 2 dimensiones. Recuerde que sólo se debe ajustar con el conjunto de entrenamiento, si se muestra\n",
    "un warning explique el por qué. Visualice apropiadamente la proyección en 2 dimensiones.\n",
    "</p>"
   ]
  },
  {
   "cell_type": "code",
   "execution_count": 90,
   "metadata": {},
   "outputs": [
    {
     "name": "stderr",
     "output_type": "stream",
     "text": [
      "C:\\Users\\Alfredo\\Anaconda2\\lib\\site-packages\\sklearn\\discriminant_analysis.py:388: UserWarning: Variables are collinear.\n",
      "  warnings.warn(\"Variables are collinear.\")\n"
     ]
    }
   ],
   "source": [
    "from sklearn.discriminant_analysis import LinearDiscriminantAnalysis as LDA\n",
    "model_lda = LDA(n_components=2)\n",
    "model_lda.fit(X_train,y_train)\n",
    "X_pca_train = model_lda.transform(X_train)\n",
    "X_pca_test = model_lda.transform(X_test)\n",
    "#variables son colineares <- explicar eso\n"
   ]
  },
  {
   "cell_type": "markdown",
   "metadata": {},
   "source": [
    "<p>(o) Con el propósito de encontrar el mejor modelo vuelva a realizar el item h) con el i) en el nuevo espacio\n",
    "generado por la representación según las d dimensiones de la proyección LDA. Esta nueva representación\n",
    "¿mejora o empeora el desempeño? Explique.\n",
    "</p>"
   ]
  },
  {
   "cell_type": "code",
   "execution_count": null,
   "metadata": {
    "collapsed": true
   },
   "outputs": [],
   "source": [
    "#Codigo"
   ]
  },
  {
   "cell_type": "markdown",
   "metadata": {},
   "source": [
    "<p>(p) Intente mejorar el desempeño de los algoritmos ya entrenados. Diseñe ahora sus propias cracterísticas\n",
    "(feature crafting) a partir de los datos brutos (secuencia de amplitudes), puede inspirarse en otros\n",
    "trabajos si desea.\n",
    "</p>"
   ]
  },
  {
   "cell_type": "code",
   "execution_count": null,
   "metadata": {
    "collapsed": true
   },
   "outputs": [],
   "source": [
    "#Codigo"
   ]
  },
  {
   "cell_type": "markdown",
   "metadata": {},
   "source": [
    "<h1>3. Análisis de emociones en tweets</h1>\n",
    "<p>El análisis de emociones o sentimientos se refiere al proceso de extraer información acerca de la actitud\n",
    "que una persona (o grupo de ellas) manifiesta, en un determinado medio o formato digital, con respecto a un\n",
    "tópico o contexto de comunicación. Uno de los casos más estudiados corresponde a determinar la polaridad\n",
    "de un trozo de texto, es decir, clasificar una determinada evaluación escrita (review), en que una persona\n",
    "manifiesta una opinión, como positiva, negativa o neutral. Esto también ha sido extendido a otros medios,\n",
    "como lo es analizar la polaridad de textos en redes sociales.\n",
    "La conocida red social Twitter tiene una gran cantidad de usuarios, por lo que la información se genera a\n",
    "cada segundo, donde el análisis de texto se ha aplicado fuertemente a estos medios sociales. La dificultad de\n",
    "este problema radica en el carácter altamente ambiguo e informal del lenguaje que utilizan naturalmente las\n",
    "personas así como el manejo de negaciones, sarcasmo y abreviaciones en una frase.\n",
    "</p>\n",
    "<p>\n",
    "Para esta actividad se trabajará con un datasets de tweets ofrecidos por CrowdFlower. Cada tweet está\n",
    "asociado a una emoción en particular, donde el conjunto de emociones se trabajarán como mutuamente\n",
    "excluyentes, siendo un problema de múltiples clases.\n",
    "</p>\n",
    "<p>\n",
    "Para aumentar la eficacia de las características extraídas es conveniente ejecutar algunas técnicas de preprocesamiento\n",
    "básicas como: pasar todo el texto a minúsculas (lower-casing), eliminar signos de puntuación\n",
    "y eliminar palabras sin significado como artículos, pronombres y preposiciones (stop word removal). Otra\n",
    "técnica que suele ser útil para obtener buenas características (features) es la lematización, es decir la\n",
    "reducción de todas las palabras a su tronco léxico base. Una técnica similar y más utilizada en la práctica es\n",
    "el stemming. Varias de éstas están implementadas en la libreria nltk para python.\n",
    "</p>"
   ]
  },
  {
   "cell_type": "markdown",
   "metadata": {},
   "source": [
    "<p>(a) Construya un dataframe con los datos a analizar. Determine cuántas clases existen, cuántos registros\n",
    "por clase y describa el dataset.</p>"
   ]
  },
  {
   "cell_type": "code",
   "execution_count": 32,
   "metadata": {
    "scrolled": true
   },
   "outputs": [
    {
     "name": "stdout",
     "output_type": "stream",
     "text": [
      "<class 'pandas.core.frame.DataFrame'>\n",
      "RangeIndex: 40000 entries, 0 to 39999\n",
      "Data columns (total 4 columns):\n",
      "tweet_id     40000 non-null int64\n",
      "sentiment    40000 non-null object\n",
      "author       40000 non-null object\n",
      "content      40000 non-null object\n",
      "dtypes: int64(1), object(3)\n",
      "memory usage: 1.2+ MB\n",
      "@tiffanylue i know  i was listenin to bad habit earlier and i started freakin at his part =[\n",
      "set(['love', 'relief', 'neutral', 'anger', 'sadness', 'empty', 'surprise', 'fun', 'enthusiasm', 'happiness', 'hate', 'worry', 'boredom'])\n",
      "13\n"
     ]
    }
   ],
   "source": [
    "import pandas as pd\n",
    "df = pd.read_csv('./text_emotion.csv')\n",
    "df.shape\n",
    "df.info()\n",
    "df.describe()\n",
    "clases=set(df['sentiment'].values)\n",
    "print(df['content'][0])\n",
    "print(clases)\n",
    "print(len(clases))"
   ]
  },
  {
   "cell_type": "code",
   "execution_count": 33,
   "metadata": {},
   "outputs": [
    {
     "data": {
      "text/html": [
       "<div>\n",
       "<style>\n",
       "    .dataframe thead tr:only-child th {\n",
       "        text-align: right;\n",
       "    }\n",
       "\n",
       "    .dataframe thead th {\n",
       "        text-align: left;\n",
       "    }\n",
       "\n",
       "    .dataframe tbody tr th {\n",
       "        vertical-align: top;\n",
       "    }\n",
       "</style>\n",
       "<table border=\"1\" class=\"dataframe\">\n",
       "  <thead>\n",
       "    <tr style=\"text-align: right;\">\n",
       "      <th></th>\n",
       "      <th>tweet_id</th>\n",
       "      <th>sentiment</th>\n",
       "      <th>author</th>\n",
       "      <th>content</th>\n",
       "    </tr>\n",
       "  </thead>\n",
       "  <tbody>\n",
       "    <tr>\n",
       "      <th>0</th>\n",
       "      <td>1956967341</td>\n",
       "      <td>empty</td>\n",
       "      <td>xoshayzers</td>\n",
       "      <td>@tiffanylue i know  i was listenin to bad habi...</td>\n",
       "    </tr>\n",
       "    <tr>\n",
       "      <th>1</th>\n",
       "      <td>1956967666</td>\n",
       "      <td>sadness</td>\n",
       "      <td>wannamama</td>\n",
       "      <td>Layin n bed with a headache  ughhhh...waitin o...</td>\n",
       "    </tr>\n",
       "    <tr>\n",
       "      <th>2</th>\n",
       "      <td>1956967696</td>\n",
       "      <td>sadness</td>\n",
       "      <td>coolfunky</td>\n",
       "      <td>Funeral ceremony...gloomy friday...</td>\n",
       "    </tr>\n",
       "    <tr>\n",
       "      <th>3</th>\n",
       "      <td>1956967789</td>\n",
       "      <td>enthusiasm</td>\n",
       "      <td>czareaquino</td>\n",
       "      <td>wants to hang out with friends SOON!</td>\n",
       "    </tr>\n",
       "    <tr>\n",
       "      <th>4</th>\n",
       "      <td>1956968416</td>\n",
       "      <td>neutral</td>\n",
       "      <td>xkilljoyx</td>\n",
       "      <td>@dannycastillo We want to trade with someone w...</td>\n",
       "    </tr>\n",
       "  </tbody>\n",
       "</table>\n",
       "</div>"
      ],
      "text/plain": [
       "     tweet_id   sentiment       author  \\\n",
       "0  1956967341       empty   xoshayzers   \n",
       "1  1956967666     sadness    wannamama   \n",
       "2  1956967696     sadness    coolfunky   \n",
       "3  1956967789  enthusiasm  czareaquino   \n",
       "4  1956968416     neutral    xkilljoyx   \n",
       "\n",
       "                                             content  \n",
       "0  @tiffanylue i know  i was listenin to bad habi...  \n",
       "1  Layin n bed with a headache  ughhhh...waitin o...  \n",
       "2                Funeral ceremony...gloomy friday...  \n",
       "3               wants to hang out with friends SOON!  \n",
       "4  @dannycastillo We want to trade with someone w...  "
      ]
     },
     "execution_count": 33,
     "metadata": {},
     "output_type": "execute_result"
    }
   ],
   "source": [
    "df.head()"
   ]
  },
  {
   "cell_type": "markdown",
   "metadata": {},
   "source": [
    "<p>El dataset consiste en 40000 registros de tweets, con sus respectivos autores (string), id (int), contenido (string) y sentiminetos (string), estos últimos son la clasificación del tweet. Existen 13 clasificaciones diferentes de sentimientos:\n",
    "<i>love, relief, neutral, anger, sadness, empty, surprise, fun, enthusiasm, happiness, hate, worry y boredom.</i></p>"
   ]
  },
  {
   "cell_type": "markdown",
   "metadata": {},
   "source": [
    "<p>(b) Construya un conjunto de entrenamiento y otro de pruebas, a través de una máscara aleatoria, para\n",
    "verificar los resultados de los algoritmos.</p>"
   ]
  },
  {
   "cell_type": "code",
   "execution_count": 2,
   "metadata": {
    "scrolled": true
   },
   "outputs": [
    {
     "name": "stdout",
     "output_type": "stream",
     "text": [
      "<class 'pandas.core.frame.DataFrame'>\n",
      "Int64Index: 32159 entries, 0 to 39998\n",
      "Data columns (total 4 columns):\n",
      "tweet_id     32159 non-null int64\n",
      "sentiment    32159 non-null object\n",
      "author       32159 non-null object\n",
      "content      32159 non-null object\n",
      "dtypes: int64(1), object(3)\n",
      "memory usage: 1.2+ MB\n",
      "Tamaño de entrenamiento: 32159\n",
      "Tamaño de prueba: 7841\n"
     ]
    }
   ],
   "source": [
    "import numpy as np\n",
    "msk = np.random.rand(len(df)) < 0.8\n",
    "df_train = df[msk]\n",
    "df_test = df[~msk]\n",
    "df_train.info()\n",
    "#print(df_train['content'].values[4])\n",
    "print(\"Tamaño de entrenamiento: {}\".format(len(df_train)))\n",
    "print(\"Tamaño de prueba: {}\".format(len(df_test)))\n",
    "\n"
   ]
  },
  {
   "cell_type": "markdown",
   "metadata": {},
   "source": [
    "<p>(c) Implemente y explique un pre-procesamiento para los tweets para dejarlos en un formato estándarizado\n",
    "en el cual se podrán trabajar.\n",
    "</p>"
   ]
  },
  {
   "cell_type": "code",
   "execution_count": 3,
   "metadata": {
    "collapsed": true
   },
   "outputs": [],
   "source": [
    "#Se asume que todos los tweets estan en ingles\n",
    "#Se ocupa Snowball, por que en inglés se comporta mejor que Porter\n",
    "import nltk\n",
    "from nltk.corpus import stopwords\n",
    "from nltk.stem.snowball import SnowballStemmer #Se comporta mejor que Porter \n",
    "from nltk.tokenize import TweetTokenizer #Tokenizer especializado para twitter\n",
    "\n",
    "def preprocesamiento(texto):\n",
    "    try: #En caso de que aparezcan simbolos raros, agregar a la lista\n",
    "        stoplist = stopwords.words('english')\n",
    "        listastop=[\"'\",\".\",\"#\",\"<\",\">\",\"}\",\"{\",\"]\",\"[\",\"´\",\"?\",\"¡\",\"!\",\"¿\",\"/\",\"*\",\n",
    "                    '\"',\"-\",\"--\",\";\",\":\",\"::\",\"=\",\")\",\"(\",\"&\",\"|\",\"'ve\",\"'t\",\"'s\",\n",
    "                   \"'ll\",\"n't\",\">.<\",\"<3\",\"._.\",\"~\",\"<br\",\"</\",\"/>\",\"<<\",\">>\",\"~~\",\n",
    "                   \"...\",\",\",\"d\",\"na\",\"m\",\"''\",\"´´\",\"!!!!!\",'\"(','\",','.;','[*','tm',\n",
    "                   '\").',\"l\",'\"&',').*','://','www','http','\"...',\"=[\", '@','Thatsï¿½meE']\n",
    "        nuevostoplist= stoplist+listastop\n",
    "        tknzr = TweetTokenizer()\n",
    "        tokens = tknzr.tokenize(texto)\n",
    "        filtered = [token for token in tokens if token not in nuevostoplist]\n",
    "        stemmed = []\n",
    "        stemmer = SnowballStemmer(\"english\")\n",
    "        for word in filtered:\n",
    "            stemmed.append(stemmer.stem(word))\n",
    "        return filtered, stemmed\n",
    "    except:\n",
    "        print(texto)\n"
   ]
  },
  {
   "cell_type": "markdown",
   "metadata": {},
   "source": [
    "<p>Primero se toma un tweet y se lleva todo su contenido a minúsculas, luego utilizando el corpus para Inglés por defecto de Nltk se define una lista de Stopwords (palabras sin significado como artículos, pronombres, preposiciones, signos de puntuación o símbolos extraños, etc...) y además se agregan a mano símbolos, después todas las palabras se tokenizan haciendo uso de TweetTokenizer y se eliminan todos los token que esten en la lista de Stopwords unida a la lista creada a mano. Una vez que se tienen solo palabras con significado se llevan a su forma léxica genérica (Ej: Seriousness->Serious), con la librería SnowballStemmer, de está menera se limpia y se reduce lo más posible el conjunto de palabras de las cuales aprenderán nuestras máquinas de clasificación. La función devolverá tanto las listas de tokens por tweets sin pasar por SnowballStemmer, como los que fueron reducidos a su tronco léxico base.</p>"
   ]
  },
  {
   "cell_type": "markdown",
   "metadata": {},
   "source": [
    "<p>(d) Haga una reducción binaria al problema, para trabajarlo como un problema de clasificación de dos clases.\n",
    "Para esto, agrupe las distintas emociones como positivas y negativas (defina un criterio), se recomienda\n",
    "codificar las clases como +1 y −1 respectivamente. Recuerde tener presente que el desbalanceo de los\n",
    "datos puede afectar considerablemente al modelo.\n",
    "</p>"
   ]
  },
  {
   "cell_type": "markdown",
   "metadata": {},
   "source": [
    "<p>Primero que todo se necesita definir cuales son las emociones humanas, para esto haremos uso de la teoría de las ocho emociones humanas de Robert Plutchik, altamente utilizada en el campo de <i>Sentiment Analysis</i>. Esta teoría dice de manera básica y resumida que existen ocho emociones primarias en distintas intensidades y producto de la fusión de estas nacen ocho emociones secundarias. A continuación se muestra la Rueda de Robert Plutchik para mostrar de manera gráfica las emociones:</p>\n",
    "<img src=\"Robert-Plutchik.png\"> \n",
    "\n",
    "<p>\n",
    "Como se requiere que todas las emociones sean clasificadas en dos clases Terror, Pesar, Aborrecimiento e Ira junto a sus fusiones, serán negativas (-1) en todos sus grados y el resto de las emociones serán clasificadas como positivas (+1). \n",
    "\n",
    "Ya que las clases <i>empty</i> y <i>neutral</i> no son intrinsicamente positivas o negativas, decidimos arbitrariamente clasificarlas como negativas.\n",
    "</p>\n",
    "<p>\n",
    "-De este modo las positivas serán: <i>love, relief, surprise, fun, enthusiasm</i> y <i>happiness.</i>\n",
    "</p>\n",
    "<p>\n",
    "-Mientras que las clases negativas son: <i>neutral, anger, sadness, empty, hate, worry</i> y <i>boredom.</i>\n",
    "</p>\n"
   ]
  },
  {
   "cell_type": "code",
   "execution_count": 4,
   "metadata": {
    "collapsed": true
   },
   "outputs": [],
   "source": [
    "def codificacion(sentimientos):\n",
    "    codificados=[]\n",
    "    for senti in sentimientos:\n",
    "        if(senti == 'sadness' or senti == 'worry' or senti == 'hate' or senti == 'boredom'):\n",
    "            codificados.append(-1)\n",
    "        elif(senti == 'neutral' or senti == 'anger' or senti == 'empty'):\n",
    "            codificados.append(-1)\n",
    "        else:\n",
    "            codificados.append(+1)\n",
    "    return codificados\n",
    "cod_train = codificacion(df_train['sentiment'].values)\n",
    "cod_test = codificacion(df_test['sentiment'].values)"
   ]
  },
  {
   "cell_type": "code",
   "execution_count": 5,
   "metadata": {},
   "outputs": [
    {
     "name": "stdout",
     "output_type": "stream",
     "text": [
      "Frecuencia de datos en Training:\n",
      "1 = 12277\n",
      "-1 = 19882\n",
      "\n",
      "Frecuencia de datos en Test:\n",
      "1 = 3022\n",
      "-1 = 4819\n"
     ]
    }
   ],
   "source": [
    "import collections\n",
    "counter=collections.Counter(cod_train)\n",
    "print(\"Frecuencia de datos en Training:\")\n",
    "for i in range(len(counter.values())):\n",
    "    print(\"{} = {}\".format(counter.keys()[i],\n",
    "                             counter.values()[i]))\n",
    "\n",
    "print(\"\")\n",
    "counter=collections.Counter(cod_test)\n",
    "print(\"Frecuencia de datos en Test:\")\n",
    "for i in range(len(counter.values())):\n",
    "    print(\"{} = {}\".format(counter.keys()[i],\n",
    "                             counter.values()[i]))"
   ]
  },
  {
   "cell_type": "markdown",
   "metadata": {},
   "source": [
    "<p>Se puede apreciar que tenemos ~12000 ejemplos en la clase positiva y ~19000 en la clase negativa para entrenar las máquinas, lo que es bastante razonable para una máquina binaria, incluso cuando la cantidad de palabras diferentes es aproximadamente 30000.</p>"
   ]
  },
  {
   "cell_type": "markdown",
   "metadata": {},
   "source": [
    "<p>(e) Para construir un clasificador que determine automáticamente la polaridad de un trozo de texto, será\n",
    "necesario representar los tweets {ti}i=1->n disponibles como vectores de características (features). El tipo\n",
    "de características más utilizado consiste en contar cuántas veces aparecen ciertos términos/palabras en\n",
    "el texto. Para esto, es necesario un vocabulario que, por lo general, se construye mediante la unión de\n",
    "todas las palabras que se observen en los tweets.\n",
    "</p>\n",
    "<p>\n",
    "Se recomienda utilizar las librerías ofrecidas por sklearn de feature extraction in text (CountVectorizer\n",
    "y TfidfVectorizer ). Recuerde realizar el ajuste (fit) únicamente con el conjunto de entrenamiento,\n",
    "para luego transformar el conjunto de pruebas (con el método transform).\n",
    "</p>"
   ]
  },
  {
   "cell_type": "code",
   "execution_count": 6,
   "metadata": {},
   "outputs": [
    {
     "name": "stderr",
     "output_type": "stream",
     "text": [
      "C:\\Users\\Alfredo\\Anaconda2\\lib\\site-packages\\ipykernel_launcher.py:22: UnicodeWarning: Unicode equal comparison failed to convert both arguments to Unicode - interpreting them as being unequal\n"
     ]
    }
   ],
   "source": [
    "from sklearn.feature_extraction.text import CountVectorizer\n",
    "from sklearn.feature_extraction.text import TfidfTransformer\n",
    "training = []\n",
    "tweets = df_train['content'].values\n",
    "for t in tweets:\n",
    "    _,stemm = preprocesamiento(t)\n",
    "    training.append(' '.join(stemm))\n",
    "\n",
    "vectorizer = CountVectorizer()\n",
    "contadores = vectorizer.fit_transform(training)\n",
    "#print(contadores)\n",
    "#usar tfid...\n",
    "transformer = TfidfTransformer()\n",
    "freqID = transformer.fit_transform(contadores)\n",
    "#print(freqID)\n",
    "\n",
    "#Ahora se repite el proceso pero para test\n",
    "test = []\n",
    "tweetsT = df_test['content'].values\n",
    "for t in tweetsT:\n",
    "    _,stemmT = preprocesamiento(t)\n",
    "    test.append(' '.join(stemmT))\n",
    "\n",
    "contadoresT = vectorizer.transform(test)\n",
    "freqIDT = transformer.transform(contadoresT)"
   ]
  },
  {
   "cell_type": "markdown",
   "metadata": {},
   "source": [
    "<p>\n",
    "Se genera un vocabulario a partir del conjunto de entrenamiento, además se crea una matriz de frecuencia de palabras por tweets para el conjunto de entrenamiento, donde cada columna es una palabra en particular.\n",
    "Luego se toma el texto preprocesado del conjunto de pruebas y se transformo utilizando el vocabulario ya creado con anterioridad.\n",
    "</p>\n",
    "\n",
    "<p>\n",
    "Se anexa un hipervínculo<a href=\"http://scikit-learn.org/stable/modules/feature_extraction.html#text-feature-extraction\">[1]</a> donde se puede ver más a fondo los calculos realizados para los pesos de cada elemento en la matriz, pero básicamente se utiliza la frecuencia relativa del token en el tweet, comparada con la cantidad de tweets que contienen el token.\n",
    "</p>\n"
   ]
  },
  {
   "cell_type": "markdown",
   "metadata": {},
   "source": [
    "<p>\n",
    "(f) Entrene y compare al menos 5 de los diferentes clasificadores vistos en clases para clasificación binaria\n",
    "(por ejemplo: Naive Bayes, Multinomial Naive Bayes, LDA, QDA, Regresión logística, SVM y Arboles\n",
    "de decisión) sobre el conjunto de entrenamiento verificando su desempeño sobre ambos conjuntos\n",
    "(entrenamiento y de pruebas), construyendo un gráfico resumen del error de éstos.\n",
    "</p>"
   ]
  },
  {
   "cell_type": "code",
   "execution_count": 7,
   "metadata": {},
   "outputs": [
    {
     "data": {
      "text/plain": [
       "SVC(C=1.0, cache_size=200, class_weight=None, coef0=0.0,\n",
       "  decision_function_shape='ovr', degree=3, gamma='auto', kernel='rbf',\n",
       "  max_iter=-1, probability=False, random_state=None, shrinking=True,\n",
       "  tol=0.001, verbose=False)"
      ]
     },
     "execution_count": 7,
     "metadata": {},
     "output_type": "execute_result"
    }
   ],
   "source": [
    "from sklearn import svm\n",
    "clf = svm.SVC()\n",
    "clf.fit(freqID,cod_train)"
   ]
  },
  {
   "cell_type": "code",
   "execution_count": 8,
   "metadata": {
    "collapsed": true
   },
   "outputs": [],
   "source": [
    "predTestSVC = clf.predict(freqIDT)\n",
    "predTrainSVC = clf.predict(freqID)"
   ]
  },
  {
   "cell_type": "code",
   "execution_count": 9,
   "metadata": {},
   "outputs": [
    {
     "name": "stdout",
     "output_type": "stream",
     "text": [
      "Score de SVC(entrenamiento): 0.618240616935\n",
      "Score de SVC(test): 0.614589975768\n"
     ]
    }
   ],
   "source": [
    "#Los errores de train y test son distintos porque se corrio el codigo con distintas\n",
    "#particiones del dataset en training y test, lo cual se hizo para todas las maquinas.\n",
    "from sklearn.metrics import accuracy_score\n",
    "errorTrainSVC = accuracy_score(predTrainSVC,cod_train)\n",
    "print(\"Score de SVC(entrenamiento): \"+str(errorTrainSVC))\n",
    "#errorTrainSVC = 0.596264142665\n",
    "#errorTrainSVC = 0.618609279761\n",
    "errorTestSVC = accuracy_score(predTestSVC,cod_test)\n",
    "print(\"Score de SVC(test): \"+str(errorTestSVC))\n",
    "#errorTestSVC = 0.58556777462\n",
    "#errorTestSVC =0.613080061193"
   ]
  },
  {
   "cell_type": "code",
   "execution_count": 10,
   "metadata": {},
   "outputs": [
    {
     "name": "stdout",
     "output_type": "stream",
     "text": [
      "Score de LR(entrenamiento): 0.798656674648\n",
      "Score de LR(test): 0.724269863538\n"
     ]
    }
   ],
   "source": [
    "#Regresión Logistica\n",
    "from sklearn.linear_model import LogisticRegression\n",
    "model = LogisticRegression()\n",
    "model.fit(freqID,cod_train)\n",
    "\n",
    "predTrainLR = model.predict(freqID)\n",
    "predTestLR = model.predict(freqIDT)\n",
    "\n",
    "\n",
    "from sklearn.metrics import accuracy_score\n",
    "errorTrainLR = accuracy_score(predTrainLR,cod_train)\n",
    "print(\"Score de LR(entrenamiento): \"+str(errorTrainLR))\n",
    "#errorTrainLR = 0.793669181878\n",
    "#errorTrainLR = 0.795839034706\n",
    "errorTestLR = accuracy_score(predTestLR,cod_test)\n",
    "print(\"Score de LR(test): \"+str(errorTestLR))\n",
    "#errorTestSVC = 0.70239424389\n",
    "#errorTestSVC = 0.735849056604"
   ]
  },
  {
   "cell_type": "code",
   "execution_count": 11,
   "metadata": {},
   "outputs": [
    {
     "name": "stdout",
     "output_type": "stream",
     "text": [
      "Score de DTC(entrenamiento): 0.997232501011\n",
      "Score de DTC(test): 0.652467797475\n"
     ]
    }
   ],
   "source": [
    "from sklearn.tree import DecisionTreeClassifier as DTC\n",
    "arbol = DTC()\n",
    "arbol.fit(freqID,cod_train)\n",
    "\n",
    "predTrainDTC = arbol.predict(freqID)\n",
    "predTestDTC = arbol.predict(freqIDT)\n",
    "\n",
    "\n",
    "from sklearn.metrics import accuracy_score\n",
    "errorTrainDTC = accuracy_score(predTrainDTC,cod_train)\n",
    "print(\"Score de DTC(entrenamiento): \"+str(errorTrainDTC))\n",
    "#errorTrainDTC = 0.99693165096 OVERFITTING!!!!\n",
    "#errorTrainDTC = 0.997263341212\n",
    "errorTestDTC = accuracy_score(predTestDTC,cod_test)\n",
    "print(\"Score de DTC(test): \"+str(errorTestDTC))\n",
    "#errorTestDTC = 0.643716660464\n",
    "#errorTestDTC =0.655532891382"
   ]
  },
  {
   "cell_type": "code",
   "execution_count": 12,
   "metadata": {},
   "outputs": [
    {
     "name": "stdout",
     "output_type": "stream",
     "text": [
      "Score de BNB(entrenamiento): 0.838054665879\n",
      "Score de BNB(test): 0.702844024997\n"
     ]
    }
   ],
   "source": [
    "from sklearn.naive_bayes import BernoulliNB\n",
    "BNB = BernoulliNB()\n",
    "BNB.fit(freqID, cod_train)\n",
    "\n",
    "predTrainBNB = BNB.predict(freqID)\n",
    "predTestBNB = BNB.predict(freqIDT)\n",
    "\n",
    "\n",
    "from sklearn.metrics import accuracy_score\n",
    "errorTrainBNB = accuracy_score(predTrainBNB,cod_train)\n",
    "print(\"Score de BNB(entrenamiento): \"+str(errorTrainBNB))\n",
    "#errorTrainBNB = 0.836640129369\n",
    "#errorTrainBNB = 0.836640129369\n",
    "errorTestBNB = accuracy_score(predTestBNB,cod_test)\n",
    "print(\"Score de BNB(test): \"+str(errorTestBNB))\n",
    "#errorTestBNB = 0.704105048445\n",
    "#errorTestBNB = 0.704105048445"
   ]
  },
  {
   "cell_type": "code",
   "execution_count": 13,
   "metadata": {},
   "outputs": [
    {
     "name": "stdout",
     "output_type": "stream",
     "text": [
      "Score de MNB(entrenamiento): 0.790540750645\n",
      "Score de MNB(test): 0.675679122561\n"
     ]
    }
   ],
   "source": [
    "from sklearn.naive_bayes import MultinomialNB\n",
    "Mnaive = MultinomialNB()\n",
    "Mnaive.fit(freqID,cod_train)\n",
    "\n",
    "predTrainMNB = Mnaive.predict(freqID)\n",
    "predTestMNB = Mnaive.predict(freqIDT)\n",
    "\n",
    "\n",
    "from sklearn.metrics import accuracy_score\n",
    "errorTrainMNB = accuracy_score(predTrainMNB,cod_train)\n",
    "print(\"Score de MNB(entrenamiento): \"+str(errorTrainMNB))\n",
    "#errorTrainMNB = 0.789709382438\n",
    "#errorTrainMNB = 0.788966289339\n",
    "errorTestMNB = accuracy_score(predTestMNB,cod_test)\n",
    "print(\"Score de MNB(test): \"+str(errorTestMNB))\n",
    "#errorTestMNB = 0.674764501735\n",
    "#errorTestMNB = 0.682687404386"
   ]
  },
  {
   "cell_type": "code",
   "execution_count": 14,
   "metadata": {},
   "outputs": [
    {
     "data": {
      "image/png": "[encoded data removed]",
      "text/plain": [
       "<matplotlib.figure.Figure at 0xe0e0b00>"
      ]
     },
     "metadata": {},
     "output_type": "display_data"
    }
   ],
   "source": [
    "\"\"\"\n",
    "========\n",
    "Barchart\n",
    "========\n",
    "\n",
    "A bar plot with errorbars and height labels on individual bars\n",
    "\"\"\"\n",
    "import numpy as np\n",
    "import matplotlib.pyplot as plt\n",
    "\n",
    "N = 5\n",
    "train_s = (errorTrainSVC, errorTrainLR, errorTrainDTC, errorTrainBNB, errorTrainMNB)\n",
    "\n",
    "ind = np.arange(N)  # the x locations for the groups\n",
    "width = 0.35       # the width of the bars\n",
    "\n",
    "fig, ax = plt.subplots()\n",
    "rects1 = ax.bar(ind, train_s, width, color='r')\n",
    "\n",
    "test_s = (errorTestSVC, errorTestLR, errorTestDTC, errorTestBNB, errorTestMNB)\n",
    "rects2 = ax.bar(ind + width, test_s, width, color='y')\n",
    "\n",
    "# add some text for labels, title and axes ticks\n",
    "ax.set_ylabel('Scores')\n",
    "ax.set_title('Scores de prediccion')\n",
    "ax.set_xticks(ind + width / 2)\n",
    "ax.set_xticklabels(('SVM', 'RL', 'DTC', 'BNB', 'MNB'))\n",
    "\n",
    "ax.legend((rects1[0], rects2[0]), ('Train', 'Test'))\n",
    "\n",
    "\n",
    "def autolabel(rects):\n",
    "    \"\"\"\n",
    "    Attach a text label above each bar displaying its height\n",
    "    \"\"\"\n",
    "    for rect in rects:\n",
    "        height = rect.get_height()\n",
    "        ax.text(rect.get_x() + rect.get_width()/2., height,\n",
    "                '%.1f' % float(height*100),\n",
    "                ha='center', va='bottom')\n",
    "\n",
    "autolabel(rects1)\n",
    "autolabel(rects2)\n",
    "\n",
    "plt.show()"
   ]
  },
  {
   "cell_type": "markdown",
   "metadata": {},
   "source": [
    "<p>\n",
    "Antes de describir las máquinas y su comportamiento de clasificación sobre los conjuntos de entrenamiento y prueba describamos el conjunto de entrada: como ya se dijo anteriormente se construye utilizando las funciones de Tf-idf(Term frequency- Inverse Document frequency). En resumen una fila corresponde a un documento/tweet en especifico, mientras que cada columna es un token (palabra reducida a un objeto que contiene su tronco léxico base), y cada elemento en la matriz es el puntaje tf-idf() asignado, el cual se calcula usando el logaritmo de la razón entre la aparicion de la palabra en el documento y la cantidad de documentos en las que aparece, de forma que define la importancia de un termino en especifico con respecto al texto y la importancia de la palabra para clasificar al texto completo. Un buen ejemplo de esto sería: se tiene un conjunto de textos sobre maestros de las espadas(tanto históricos como ficticios), probablemente la palabra espada aparecerá mucho en cada texto, pero así también muy probablemente esté en una gran cantidad de documentos, sino es que en todos ellos, en cambio la palabra Skywalker será un muy buen descriptor de un texto que hable sobre La Guerra de las Galaxias, porque problamente aparecerá mucho en el documento, pero no se le verá en una gran cantidad de documentos diferentes. Además se puede deducir que un texto por increiblemente largo que sea, probablemente no usara todo el vocabulario, de hecho por Ley de Zipf probablemente utilizara en gran medida solo una pequeña parte de este, en el caso de los tweets donde la cantidad de letras es muy limitada este efecto se acentua aun más, de manera que la matriz de vocabulario/documentos será extremadamente dispersa (tendrá muchos 0). Esta es la razón por la que construir una máquina LDA, QDA o Gaussian Naive Bayes queda descartado, ya que requieren de una matriz densa para funcionar. Por otro lado se descarta también el uso de una máquina de clasificación K-Neighbors, no por límites de aprendizaje, ya que no intenta crear un modelo generalizador, sino que guarda un conjunto de entrenamiento, el límite de esta máquina viene al momento de intentar predecir una clase para un determinado documento, puesto que la clasificación se hace por una mayoría de votos de sus vecinos (puntos cercanos al que se intenta predecir) y procesar estos \"votos\" para el caso de texto es extremadamente costoso.\n",
    "</p>\n",
    "<p>\n",
    "Las Support Vector Machines o SVM son un tipo de máquinas de aprendizaje muy versátiles, ya que al trabajar con vectores de soporte son eficientes en su uso de memoria, pueden ser entrenadas utilizando distintos tipos de kernel y funcionan bastante bien en espacios altamente dimecionales, siempre y cuando la cantidad de ejemplos de entrenamiento sea mayor a la cantidad de características. La primera máquina que se entrenó fue una SVM especializada en clasificación (SVC), su comportamiento fue de clasificación fue el menor de todas las máquinas entrenadas acertando solo en aproximadamente el 60% de los casos.\n",
    "</p>\n",
    "<p>\n",
    "La Regresión Logística es un modelo muy simple para realizar clasificación, se basa en los modelos lineales generales y en una función logística. De manera básica se construye una regresión sobre los datos de entrenamiento y se define un umbral de probabilidad de pertenencia a la clase positiva. Para este caso si bien, no es la que mejor se comporta en el conjunto de entrenamiento, es la que obtiene el mejor puntaje de clasificación (~73%). Intuimos que la simplicidad del modelo ayudó a evitar el overfitting y favorecio la generalización del modelo.\n",
    "</p>\n",
    "<p>\n",
    "Un árbol de decisión para clasificación (DTC, por sus siglas en inglés), logra relizar clasificación dividiendo el espacio en regiones hiper-rectangulares y clasificando dichas regiones según la clase modal de la misma, es decir, se clasifica todo dato que caiga dentro de la región como si fuera de la clase que se observo con la mayoría en esa zona durante el entrenamiento del árbol. Esto último genera una gran inclinación a Overfitting, y se puede apreciar claramente en los resultado, al ver que en el conjunto de entrenamiento solo se equivoca en el ~0.03% de los casos, pero en el conjunto de prueba es la penúltima máquina acertando solo un ~65%.  \n",
    "</p>\n",
    "<p>\n",
    "Por último estan ambos clasificadores del tipo Naive Bayes, este tipo de máquinas es altamente usado para el análisis de texto, además de ser potentes para la clasificación y como su nombre lo sugieren se basan en el cálculo de probabilidades usando el Teorema de Bayes. La Multinomial NB, en teoría funciona bien para clasificación de texto donde la representación es proporcional a la ocurrencia de palabras en un documento y/o donde los datos se comporten de manera multinomial. Mientras que una Bernnoulli NB, se comporta de manera similar a la MBN, pero con entradas binarias $X_i={0,1}$, lo cual es interesante pues el conjunto de entrenamiento no lo es, lo que nos hace sospechar que la máquina por dentro interpreta todo lo que sea 0, como 0 y lo que no sea 0, lo interpreta como 1. Como es de esperase ambas maquinas tuvieron comportamientos muy similares con puntajes de clasificación de entrenamiento entre ~78% y ~83% mientras que para las pruebas tuvieron puntajes de entre ~68% y ~70% (BNB y MBN, respectivamente).\n",
    "</p>"
   ]
  },
  {
   "cell_type": "markdown",
   "metadata": {},
   "source": [
    "<p>(g) Utilice y explique las métricas que calcula la función classification report de la librería sklearn. En base\n",
    "a las distintas métricas calculadas ¿Cuáles clasificadores son los que mejor se comportan?\n",
    "</p>"
   ]
  },
  {
   "cell_type": "code",
   "execution_count": 15,
   "metadata": {},
   "outputs": [
    {
     "name": "stdout",
     "output_type": "stream",
     "text": [
      "SVM:*******************\n",
      "Training Accuracy: 0.618241\n",
      "Test Accuracy: 0.614668\n",
      "Detailed Analysis Testing Results ...\n",
      "             precision    recall  f1-score   support\n",
      "\n",
      "          +       0.61      1.00      0.76      4819\n",
      "          -       0.00      0.00      0.00      3022\n",
      "\n",
      "avg / total       0.38      0.61      0.47      7841\n",
      "\n",
      "RL:*******************\n",
      "Training Accuracy: 0.798657\n",
      "Test Accuracy: 0.724362\n",
      "Detailed Analysis Testing Results ...\n",
      "             precision    recall  f1-score   support\n",
      "\n",
      "          +       0.74      0.85      0.79      4819\n",
      "          -       0.69      0.53      0.59      3022\n",
      "\n",
      "avg / total       0.72      0.72      0.72      7841\n",
      "\n",
      "DTC:*******************\n",
      "Training Accuracy: 0.997233\n",
      "Test Accuracy: 0.652551\n",
      "Detailed Analysis Testing Results ...\n",
      "             precision    recall  f1-score   support\n",
      "\n",
      "          +       0.71      0.73      0.72      4819\n",
      "          -       0.55      0.52      0.54      3022\n",
      "\n",
      "avg / total       0.65      0.65      0.65      7841\n",
      "\n",
      "BNB:*******************\n",
      "Training Accuracy: 0.838055\n",
      "Test Accuracy: 0.702806\n",
      "Detailed Analysis Testing Results ...\n",
      "             precision    recall  f1-score   support\n",
      "\n",
      "          +       0.70      0.91      0.79      4819\n",
      "          -       0.73      0.37      0.49      3022\n",
      "\n",
      "avg / total       0.71      0.70      0.67      7841\n",
      "\n",
      "MNB:*******************\n",
      "Training Accuracy: 0.790541\n",
      "Test Accuracy: 0.675765\n",
      "Detailed Analysis Testing Results ...\n",
      "             precision    recall  f1-score   support\n",
      "\n",
      "          +       0.67      0.95      0.78      4819\n",
      "          -       0.74      0.24      0.37      3022\n",
      "\n",
      "avg / total       0.69      0.68      0.62      7841\n",
      "\n"
     ]
    },
    {
     "name": "stderr",
     "output_type": "stream",
     "text": [
      "C:\\Users\\Alfredo\\Anaconda2\\lib\\site-packages\\sklearn\\metrics\\classification.py:1135: UndefinedMetricWarning: Precision and F-score are ill-defined and being set to 0.0 in labels with no predicted samples.\n",
      "  'precision', 'predicted', average, warn_for)\n"
     ]
    }
   ],
   "source": [
    "from sklearn.metrics import classification_report\n",
    "\n",
    "from sklearn import svm\n",
    "from sklearn.linear_model import LogisticRegression\n",
    "from sklearn.tree import DecisionTreeClassifier as DTC\n",
    "from sklearn.naive_bayes import BernoulliNB\n",
    "from sklearn.naive_bayes import MultinomialNB\n",
    "\n",
    "def score_the_model(model,x,y,xt,yt):\n",
    "    acc_tr = model.score(x,y)\n",
    "    acc_test = model.score(xt[:-1],yt[:-1])\n",
    "    print \"Training Accuracy: %f\"%(acc_tr)\n",
    "    print \"Test Accuracy: %f\"%(acc_test)\n",
    "    print \"Detailed Analysis Testing Results ...\"\n",
    "    print(classification_report(yt, model.predict(xt), target_names=['+','-']))\n",
    "\n",
    "print(\"SVM:*******************\")\n",
    "score_the_model(clf, freqID, cod_train, freqIDT, cod_test)\n",
    "print(\"RL:*******************\")\n",
    "score_the_model(model, freqID, cod_train, freqIDT, cod_test)\n",
    "print(\"DTC:*******************\")\n",
    "score_the_model(arbol, freqID, cod_train, freqIDT, cod_test)\n",
    "print(\"BNB:*******************\")\n",
    "score_the_model(BNB, freqID, cod_train, freqIDT, cod_test)\n",
    "print(\"MNB:*******************\")\n",
    "score_the_model(Mnaive, freqID, cod_train, freqIDT, cod_test)"
   ]
  },
  {
   "cell_type": "markdown",
   "metadata": {},
   "source": [
    "<p>\n",
    "Antes de poder escoger un ganador primero necesitamos entender que medidas nos entrega la función. Accuracy es trivial, ya hemos hablado de ella con anterioridad, corresponde al puntaje de clasificación es decir: que porcentaje de clasificaciones se hicieron correctamente en razón de la totalidad de clasificaciones realizadas.\n",
    "</p>\n",
    "<p>\n",
    "Presición corresponde a la cantidad de verdaderos positivos dividido entre los verdaderos positivos y los falsos positivos, se suele decir también que corresponde a una medida de relevancia que responde a la pregunta: cuantos elementos escogidos son realmente relevantes, por ejemplo se le entrega a un clasificador que reconoce perros y gatos una imagen donde hay 12 perros y algunos gatos, de 8 perros reconocidos, 5 son realemnte perros y los otros 3 son gatos, entonces la presición del clasificador sería de 5/8. Por otro lado la segunda medida de relevancia es el Recall, que es la cantidad de verdaderos positivos dividida en la cantidad de verdaderos positivos y falsos negativos, en otras palabras se dice que es la medida de cuantos elementos relevantes son seleccionados, en el ejemplo anterior el recall sería de 5/12. La tercera medida de relevancia es una suerte de combinación de las dos anteriores $F_1$ suele generalizarse como la media armónica entre la Presición y el Recall. \n",
    "</p>\n",
    "<p>\n",
    "Por último el Support corresponde al número de ocurrencias de cada clase.\n",
    "</p>\n",
    "<p>Después de saber todo esto por fin podemos decidir cual es la mejor máquina tomando en cuenta todas las métricas. Para nosotros la que mejor se comporta en todas las métricas, para ambas clases y en promedio es la Regresión logística, ganandole incluso a las máquinas Naive Bayes que son generalmente usadas para análisis/clasificación de texto. Como ya se comentó anteriormente, esto puede ser producto de la simplicidad del modelo con comparación con la inmensa cantidad de features y de la reducción binaria de las clases, pero además puede ser producto de que los tweets no son muy largos, por lo que no contienen muchos tokens, si no especulamos que quizas las máquinas NB hubieran superado a la regresión. </p>"
   ]
  },
  {
   "cell_type": "markdown",
   "metadata": {},
   "source": [
    "<p>\n",
    "(h) [Opcional] Visualice las predicciones de algún modelo generativo (probabilístico) definido anteriormente,\n",
    "tomando un subconjunto aleatorio de tweets de pruebas y explorando las probabilidades que asigna el\n",
    "clasificador a cada clase.\n",
    "</p>"
   ]
  },
  {
   "cell_type": "code",
   "execution_count": null,
   "metadata": {
    "collapsed": true
   },
   "outputs": [],
   "source": [
    "test_pred = model.predict_proba(X_test)\n",
    "spl = random.sample(xrange(len(test_pred)), 15)\n",
    "for text, sentiment in zip(df_test.content[spl], test_pred[spl]):\n",
    "    print sentiment, text"
   ]
  },
  {
   "cell_type": "markdown",
   "metadata": {},
   "source": [
    "<p>(i) Ahora deberá extender el problema a las múltiples clases que tiene presente (las distintas emociones),\n",
    "es decir, su trabajo será el de predecir una de las distintas emociones de cada tweet. Para esto utilice el\n",
    "mismo pre-procesamiento realizado en el punto c) y las características generadas mediante las técnicas\n",
    "en el punto e). Recuerde que tendrá que codificar las distintas clases como valores numéricos enteros.\n",
    "</p>"
   ]
  },
  {
   "cell_type": "code",
   "execution_count": 16,
   "metadata": {
    "collapsed": true
   },
   "outputs": [],
   "source": [
    "def codificacionMultiple(sentimientos):\n",
    "    lista=['love', 'relief', 'neutral', 'anger',\n",
    "            'sadness', 'empty', 'surprise', 'fun', \n",
    "            'enthusiasm', 'happiness', 'hate', 'worry', 'boredom']\n",
    "    cn=[]\n",
    "    for senti in sentimientos:\n",
    "        n = lista.index(str(senti)) +1\n",
    "        cn.append(n)\n",
    "    return cn\n",
    "\n",
    "def decodificacionMultiple(sentimientos):\n",
    "    lista=['love', 'relief', 'neutral', 'anger',\n",
    "            'sadness', 'empty', 'surprise', 'fun', \n",
    "            'enthusiasm', 'happiness', 'hate', 'worry', 'boredom']\n",
    "    cn = []\n",
    "    for senti in sentimientos:\n",
    "        n = senti -1\n",
    "        cn.append(lista[n])\n",
    "    return cn\n",
    "mcod_train = codificacionMultiple(df_train['sentiment'].values)\n",
    "mcod_test = codificacionMultiple(df_test['sentiment'].values)"
   ]
  },
  {
   "cell_type": "code",
   "execution_count": 17,
   "metadata": {},
   "outputs": [
    {
     "name": "stdout",
     "output_type": "stream",
     "text": [
      "Frecuencia de datos en Training:\n",
      "1. love = 3072\n",
      "2. relief = 1195\n",
      "3. neutral = 6930\n",
      "4. anger = 91\n",
      "5. sadness = 4122\n",
      "6. empty = 665\n",
      "7. surprise = 1752\n",
      "8. fun = 1459\n",
      "9. enthusiasm = 623\n",
      "10. happiness = 4176\n",
      "11. hate = 1053\n",
      "12. worry = 6873\n",
      "13. boredom = 148\n",
      "\n",
      "Frecuencia de datos en Test:\n",
      "1.love = 770\n",
      "2.relief = 331\n",
      "3.neutral = 1708\n",
      "4.anger = 19\n",
      "5.sadness = 1043\n",
      "6.empty = 162\n",
      "7.surprise = 435\n",
      "8.fun = 317\n",
      "9.enthusiasm = 136\n",
      "10.happiness = 1033\n",
      "11.hate = 270\n",
      "12.worry = 1586\n",
      "13.boredom = 31\n"
     ]
    }
   ],
   "source": [
    "import collections\n",
    "counter=collections.Counter(mcod_train)\n",
    "print(\"Frecuencia de datos en Training:\")\n",
    "for i in range(len(counter.values())):\n",
    "    print(\"{}. {} = {}\".format(counter.keys()[i],\n",
    "                             decodificacionMultiple([counter.keys()[i]])[0],\n",
    "                             counter.values()[i]))\n",
    "\n",
    "print(\"\")\n",
    "counter=collections.Counter(mcod_test)\n",
    "print(\"Frecuencia de datos en Test:\")\n",
    "for i in range(len(counter.values())):\n",
    "    print(\"{}.{} = {}\".format(counter.keys()[i],\n",
    "                             decodificacionMultiple([counter.keys()[i]])[0],\n",
    "                             counter.values()[i]))"
   ]
  },
  {
   "cell_type": "markdown",
   "metadata": {},
   "source": [
    "<p>\n",
    "En comparación con lo anteriormente realizado la cantidad de datos por clases es abismalmente menor, pasando de entre 12000-19000 datos por clase a 86-3100 datos, esperamos que esto tenga fuertes repercusiones en las siguientes máquinas a entrenar, pues los datos no serán suficientes para que las máquinas aprendan a categorizar las clases con menos ejemplos.\n",
    "</p>"
   ]
  },
  {
   "cell_type": "markdown",
   "metadata": {},
   "source": [
    "<p>(j) Utilice los clasificadores que son extendidos por defecto a múltiples clases para detectar emociones en\n",
    "cada tweet, muestre sus desempeños a través del error de pruebas en un gráfico resumen.</p>"
   ]
  },
  {
   "cell_type": "code",
   "execution_count": 18,
   "metadata": {},
   "outputs": [
    {
     "name": "stdout",
     "output_type": "stream",
     "text": [
      "Score de LR(test): 0.343451090422\n",
      "Score de DTC(test): 0.260425966076\n",
      "Score de BNB(test): 0.29269225864\n"
     ]
    },
    {
     "data": {
      "image/png": "[encoded data removed]",
      "text/plain": [
       "<matplotlib.figure.Figure at 0x67fac88>"
      ]
     },
     "metadata": {},
     "output_type": "display_data"
    }
   ],
   "source": [
    "#Inherentemente multicalses\n",
    "#sklearn.naive_bayes.BernoulliNB\n",
    "#sklearn.tree.DecisionTreeClassifier\n",
    "#sklearn.linear_model.LogisticRegression (setting multi_class=”multinomial”)\n",
    "from sklearn.metrics import accuracy_score\n",
    "\n",
    "#Regresión Logistica***********************************************\n",
    "from sklearn.linear_model import LogisticRegression\n",
    "model = LogisticRegression(multi_class='multinomial', solver='newton-cg')\n",
    "model.fit(freqID,mcod_train)\n",
    "predTestLR = model.predict(freqIDT)\n",
    "errorTestLR = accuracy_score(predTestLR,mcod_test)\n",
    "print(\"Score de LR(test): \"+str(errorTestLR))\n",
    "\n",
    "#DTC****************************************************************\n",
    "from sklearn.tree import DecisionTreeClassifier as DTC\n",
    "arbol = DTC()\n",
    "arbol.fit(freqID,mcod_train)\n",
    "predTestDTC = arbol.predict(freqIDT)\n",
    "errorTestDTC = accuracy_score(predTestDTC,mcod_test)\n",
    "print(\"Score de DTC(test): \"+str(errorTestDTC))\n",
    "\n",
    "#BNB****************************************************************\n",
    "from sklearn.naive_bayes import BernoulliNB\n",
    "BNB = BernoulliNB()\n",
    "BNB.fit(freqID, mcod_train)\n",
    "predTestBNB = BNB.predict(freqIDT)\n",
    "errorTestBNB = accuracy_score(predTestBNB,mcod_test)\n",
    "print(\"Score de BNB(test): \"+str(errorTestBNB))\n",
    "\n",
    "\n",
    "\"\"\"\n",
    "========\n",
    "Barchart\n",
    "========\n",
    "\n",
    "A bar plot with errorbars and height labels on individual bars\n",
    "\"\"\"\n",
    "import numpy as np\n",
    "import matplotlib.pyplot as plt\n",
    "\n",
    "N = 3\n",
    "#train_s = (errorTrainSVC, errorTrainLR, errorTrainDTC, errorTrainBNB, errorTrainMNB)\n",
    "\n",
    "ind = np.arange(N)  # the x locations for the groups\n",
    "width = 0.35       # the width of the bars\n",
    "\n",
    "fig, ax = plt.subplots()\n",
    "#rects1 = ax.bar(ind, train_s, width, color='r')\n",
    "\n",
    "test_s = (errorTestLR, errorTestDTC, errorTestBNB)\n",
    "rects2 = ax.bar(ind + width, test_s, width, color='y')\n",
    "\n",
    "# add some text for labels, title and axes ticks\n",
    "ax.set_ylabel('Scores')\n",
    "ax.set_title('Scores de Test')\n",
    "ax.set_xticks(ind + width / 2)\n",
    "ax.set_xticklabels(('RL', 'DTC', 'BNB'))\n",
    "\n",
    "\n",
    "\n",
    "def autolabel(rects):\n",
    "    \"\"\"\n",
    "    Attach a text label above each bar displaying its height\n",
    "    \"\"\"\n",
    "    for rect in rects:\n",
    "        height = rect.get_height()\n",
    "        ax.text(rect.get_x() + rect.get_width()/2., height,\n",
    "                '%.1f' % float(height*100),\n",
    "                ha='center', va='bottom')\n",
    "\n",
    "#autolabel(rects1)\n",
    "autolabel(rects2)\n",
    "\n",
    "plt.show()"
   ]
  },
  {
   "cell_type": "markdown",
   "metadata": {},
   "source": [
    "<p>\n",
    "Como se esperaba el puntaje de clasificación (Accuracy) de todas las máquinas no alcanzó a ser ni siquiera la mitad de lo que era anteriormente, esto pues el número de ejemplos por clase es mucho menor a la cantidad de features que se tienen para clasificar, por lo que las máquinas no pueden generalizar. Aun así la tendencia de comportamiento se mantuvo, la regresión lineal fue la que mejor se comportó, luego la BNB y por útlimo el árbol.\n",
    "</p>"
   ]
  },
  {
   "cell_type": "markdown",
   "metadata": {},
   "source": [
    "<p>(k) Utilice clasificadores binarios que pueden ser extendidos a través de otras técnicas, tal como One vs\n",
    "One y One vs All/Rest.\n",
    "</p>"
   ]
  },
  {
   "cell_type": "code",
   "execution_count": 19,
   "metadata": {},
   "outputs": [
    {
     "name": "stdout",
     "output_type": "stream",
     "text": [
      "Score de LR-One Vs Rest(test): 0.344343833695\n",
      "Score de SVC-One Vs One(test): 0.284785103941\n"
     ]
    },
    {
     "data": {
      "image/png": "[encoded data removed]",
      "text/plain": [
       "<matplotlib.figure.Figure at 0x1b8ade48>"
      ]
     },
     "metadata": {},
     "output_type": "display_data"
    }
   ],
   "source": [
    "from sklearn.multiclass import OneVsRestClassifier\n",
    "from sklearn.multiclass import OneVsOneClassifier\n",
    "\n",
    "from sklearn import svm\n",
    "from sklearn.linear_model import LogisticRegression\n",
    "#sklearn.svm.SVC ONE-VS-ONE\n",
    "#sklearn.linear_model.LogisticRegression (setting multi_class=”ovr”) ONE-VS-ALL\n",
    "modelLR = LogisticRegression(multi_class='ovr')\n",
    "modelLR.fit(freqID, mcod_train)\n",
    "predTestLR = modelLR.predict(freqIDT)\n",
    "errorTestLR = accuracy_score(predTestLR,mcod_test)\n",
    "print(\"Score de LR-One Vs Rest(test): \"+str(errorTestLR))\n",
    "\n",
    "modelSVC = svm.SVC()\n",
    "classif = OneVsRestClassifier(modelSVC)\n",
    "classif.fit(freqID, mcod_train)\n",
    "predTestSVC_OVO = classif.predict(freqIDT)\n",
    "errorTestSVC_OVO = accuracy_score(predTestSVC_OVO,mcod_test)\n",
    "print(\"Score de SVC-One Vs One(test): \"+str(errorTestSVC_OVO))\n",
    "\n",
    "\n",
    "\"\"\"\n",
    "========\n",
    "Barchart\n",
    "========\n",
    "\n",
    "A bar plot with errorbars and height labels on individual bars\n",
    "\"\"\"\n",
    "import numpy as np\n",
    "import matplotlib.pyplot as plt\n",
    "\n",
    "N = 2\n",
    "#train_s = (errorTrainSVC, errorTrainLR, errorTrainDTC, errorTrainBNB, errorTrainMNB)\n",
    "\n",
    "ind = np.arange(N)  # the x locations for the groups\n",
    "width = 0.35       # the width of the bars\n",
    "\n",
    "fig, ax = plt.subplots()\n",
    "#rects1 = ax.bar(ind, train_s, width, color='r')\n",
    "\n",
    "test_s = (errorTestLR, errorTestSVC_OVO)\n",
    "rects2 = ax.bar(ind + width, test_s, width, color='y')\n",
    "\n",
    "# add some text for labels, title and axes ticks\n",
    "ax.set_ylabel('Scores')\n",
    "ax.set_title('Scores de Test')\n",
    "ax.set_xticks(ind + width / 2)\n",
    "ax.set_xticklabels(('RL-OVR', 'SVC-OVO',))\n",
    "\n",
    "\n",
    "\n",
    "def autolabel(rects):\n",
    "    \"\"\"\n",
    "    Attach a text label above each bar displaying its height\n",
    "    \"\"\"\n",
    "    for rect in rects:\n",
    "        height = rect.get_height()\n",
    "        ax.text(rect.get_x() + rect.get_width()/2., height,\n",
    "                '%.1f' % float(height*100),\n",
    "                ha='center', va='bottom')\n",
    "\n",
    "#autolabel(rects1)\n",
    "autolabel(rects2)\n",
    "\n",
    "plt.show()\n"
   ]
  },
  {
   "cell_type": "markdown",
   "metadata": {},
   "source": [
    "<p>\n",
    "Antes de comentar su desempeño primero debemos definir que es una máquina One-Vs-Rest(OVR) y One-Vs-One(OVO). Ambas son maneras de extender máquinas de clasificación binarias a máquinas de clasificación multiclases. En OVR se entrena una máquina por clase, se le entregan ejemplos positivos de pertenencia a la clase y todo el resto de los elementos son ejemplos negativos de pertenencia a la clase, por lo que en teoría una máquinaarrojará un resultado positivo y el resto resultados negativos para predecir la pertenencia de un elemento. Por otro lado OVO entrena $\\frac{K(K-1)}{2}$ máquinas y a cada una le entrega ejemplos positivos de pertenencia de dos clases diferentes, de manera que se aprende a diferenciar entre dos clases en especifico por cada máquina y se usa ese aprendizaje colectivo para determinar la pertenencia de un elemento a una de las multiples clases. \n",
    "</p>\n",
    "<p>\n",
    "Claramente la regresión logística tiene mejor comportamiento que la SVC, pero este comportamiento también se habia observado con anterioridad en los casos binarios, por lo que probablemente se mantengan las mismas razones de su superioridad.\n",
    "</p>"
   ]
  },
  {
   "cell_type": "markdown",
   "metadata": {},
   "source": [
    "<p>(l) Para el caso de la Regresión Logística compare sus dos métodos para ser extendidos a múltiples clases.\n",
    "Uno a través de One vs Rest y otro definiendo que la variable a predecir se distribuye Multinomial.</p>"
   ]
  },
  {
   "cell_type": "code",
   "execution_count": 20,
   "metadata": {},
   "outputs": [
    {
     "name": "stdout",
     "output_type": "stream",
     "text": [
      "LR:*******************\n",
      "Training Accuracy: 0.547872\n",
      "Test Accuracy: 0.343495\n",
      "Detailed Analysis Testing Results ...\n",
      "             precision    recall  f1-score   support\n",
      "\n",
      "       love       0.49      0.39      0.43       770\n",
      "     relief       0.38      0.04      0.08       331\n",
      "    neutral       0.34      0.53      0.41      1708\n",
      "      anger       0.00      0.00      0.00        19\n",
      "    sadness       0.36      0.24      0.29      1043\n",
      "      empty       0.00      0.00      0.00       162\n",
      "   surprise       0.22      0.03      0.05       435\n",
      "        fun       0.04      0.01      0.01       317\n",
      " enthusiasm       0.00      0.00      0.00       136\n",
      "  happiness       0.33      0.37      0.35      1033\n",
      "       hate       0.46      0.14      0.21       270\n",
      "      worry       0.32      0.51      0.39      1586\n",
      "    boredom       0.00      0.00      0.00        31\n",
      "\n",
      "avg / total       0.32      0.34      0.31      7841\n",
      "\n",
      "LR-OVR:*******************\n",
      "Training Accuracy: 0.519264\n",
      "Test Accuracy: 0.344388\n",
      "Detailed Analysis Testing Results ...\n",
      "             precision    recall  f1-score   support\n",
      "\n",
      "       love       0.49      0.39      0.44       770\n",
      "     relief       0.29      0.02      0.04       331\n",
      "    neutral       0.34      0.54      0.41      1708\n",
      "      anger       0.00      0.00      0.00        19\n",
      "    sadness       0.36      0.22      0.27      1043\n",
      "      empty       0.60      0.02      0.04       162\n",
      "   surprise       0.23      0.02      0.04       435\n",
      "        fun       0.03      0.00      0.01       317\n",
      " enthusiasm       0.00      0.00      0.00       136\n",
      "  happiness       0.33      0.36      0.34      1033\n",
      "       hate       0.46      0.14      0.22       270\n",
      "      worry       0.32      0.51      0.40      1586\n",
      "    boredom       0.00      0.00      0.00        31\n",
      "\n",
      "avg / total       0.33      0.34      0.31      7841\n",
      "\n"
     ]
    }
   ],
   "source": [
    "def score_the_model(model,x,y,xt,yt):\n",
    "    acc_tr = model.score(x,y)\n",
    "    acc_test = model.score(xt[:-1],yt[:-1])\n",
    "    print \"Training Accuracy: %f\"%(acc_tr)\n",
    "    print \"Test Accuracy: %f\"%(acc_test)\n",
    "    print \"Detailed Analysis Testing Results ...\"\n",
    "    print(classification_report(yt, model.predict(xt), \n",
    "                                target_names=['love', 'relief', 'neutral', \n",
    "                                              'anger', 'sadness', 'empty', \n",
    "                                              'surprise', 'fun', 'enthusiasm', \n",
    "                                              'happiness', 'hate', 'worry', 'boredom']))\n",
    "\n",
    "print(\"LR:*******************\")\n",
    "score_the_model(model, freqID, mcod_train, freqIDT, mcod_test)\n",
    "\n",
    "print(\"LR-OVR:*******************\")\n",
    "score_the_model(modelLR, freqID, mcod_train, freqIDT, mcod_test)"
   ]
  },
  {
   "cell_type": "markdown",
   "metadata": {},
   "source": [
    "<p>\n",
    "Tanto la regresión logistica multiclases extendida tanto por parametro como por OVR se comportan realmente parecidas y no exite una clara diferenciación entre ellas, es notable que las clases con menos ejemplos de los cuales aprender no recibieron elementos asignados a ellas en el conjunto de pruebas, quedando aun más claro lo que se proponia desde un principio.\n",
    "</p>"
   ]
  },
  {
   "cell_type": "markdown",
   "metadata": {},
   "source": [
    "<p>(m) Compare los resultados entre los clasificadores extendidos por defecto y los binarios que son extendidos\n",
    "mediante otras técnicas, construya una tabla o gráfico resumen. Los clasificadores que mejor se\n",
    "comportan en el caso binario ¿Siguen teniendo ese desempeño en múltiples clases?\n",
    "</p>"
   ]
  },
  {
   "cell_type": "code",
   "execution_count": 21,
   "metadata": {},
   "outputs": [
    {
     "name": "stdout",
     "output_type": "stream",
     "text": [
      "SVC-OVO:*******************\n",
      "Training Accuracy: 0.606144\n",
      "Test Accuracy: 0.284821\n",
      "Detailed Analysis Testing Results ...\n",
      "             precision    recall  f1-score   support\n",
      "\n",
      "       love       0.23      0.60      0.33       770\n",
      "     relief       0.11      0.04      0.06       331\n",
      "    neutral       0.32      0.45      0.38      1708\n",
      "      anger       0.00      0.00      0.00        19\n",
      "    sadness       0.32      0.23      0.27      1043\n",
      "      empty       0.00      0.00      0.00       162\n",
      "   surprise       0.08      0.04      0.05       435\n",
      "        fun       0.00      0.00      0.00       317\n",
      " enthusiasm       0.00      0.00      0.00       136\n",
      "  happiness       0.30      0.14      0.19      1033\n",
      "       hate       0.24      0.19      0.21       270\n",
      "      worry       0.35      0.34      0.34      1586\n",
      "    boredom       0.00      0.00      0.00        31\n",
      "\n",
      "avg / total       0.26      0.28      0.26      7841\n",
      "\n",
      "DTC:*******************\n",
      "Training Accuracy: 0.993408\n",
      "Test Accuracy: 0.260459\n",
      "Detailed Analysis Testing Results ...\n",
      "             precision    recall  f1-score   support\n",
      "\n",
      "       love       0.34      0.31      0.32       770\n",
      "     relief       0.09      0.05      0.07       331\n",
      "    neutral       0.32      0.38      0.35      1708\n",
      "      anger       0.00      0.00      0.00        19\n",
      "    sadness       0.24      0.23      0.24      1043\n",
      "      empty       0.02      0.01      0.02       162\n",
      "   surprise       0.08      0.06      0.07       435\n",
      "        fun       0.05      0.04      0.04       317\n",
      " enthusiasm       0.02      0.01      0.02       136\n",
      "  happiness       0.25      0.27      0.26      1033\n",
      "       hate       0.24      0.18      0.21       270\n",
      "      worry       0.28      0.33      0.31      1586\n",
      "    boredom       0.00      0.00      0.00        31\n",
      "\n",
      "avg / total       0.24      0.26      0.25      7841\n",
      "\n",
      "BNB:*******************\n",
      "Training Accuracy: 0.443297\n",
      "Test Accuracy: 0.292730\n",
      "Detailed Analysis Testing Results ...\n",
      "             precision    recall  f1-score   support\n",
      "\n",
      "       love       0.52      0.07      0.12       770\n",
      "     relief       0.00      0.00      0.00       331\n",
      "    neutral       0.29      0.67      0.41      1708\n",
      "      anger       0.00      0.00      0.00        19\n",
      "    sadness       0.36      0.01      0.03      1043\n",
      "      empty       0.00      0.00      0.00       162\n",
      "   surprise       0.00      0.00      0.00       435\n",
      "        fun       0.00      0.00      0.00       317\n",
      " enthusiasm       0.00      0.00      0.00       136\n",
      "  happiness       0.41      0.09      0.15      1033\n",
      "       hate       0.00      0.00      0.00       270\n",
      "      worry       0.28      0.62      0.39      1586\n",
      "    boredom       0.00      0.00      0.00        31\n",
      "\n",
      "avg / total       0.27      0.29      0.20      7841\n",
      "\n"
     ]
    }
   ],
   "source": [
    "print(\"SVC-OVO:*******************\")\n",
    "score_the_model(classif, freqID, mcod_train, freqIDT, mcod_test)\n",
    "\n",
    "print(\"DTC:*******************\")\n",
    "score_the_model(arbol, freqID, mcod_train, freqIDT, mcod_test)\n",
    "\n",
    "print(\"BNB:*******************\")\n",
    "score_the_model(BNB, freqID, mcod_train, freqIDT, mcod_test)\n"
   ]
  },
  {
   "cell_type": "markdown",
   "metadata": {},
   "source": [
    "<p>\n",
    "Una vez más la regresión logistica en sus dos versiones sobrepaso al resto de las máquinas en todas las métricas y las tendencias vistas en sus versiones binarias se mantuvieron también en las multiclases. Además al igual que en item anterior, no hubo máquina alguna que lograra clasificar algun elemento de prueba en las clases con menos ejemplos en el conjunto de entrenamiento.\n",
    "</p>"
   ]
  },
  {
   "cell_type": "code",
   "execution_count": null,
   "metadata": {
    "collapsed": true
   },
   "outputs": [],
   "source": []
  }
 ],
 "metadata": {
  "kernelspec": {
   "display_name": "Python 2",
   "language": "python",
   "name": "python2"
  },
  "language_info": {
   "codemirror_mode": {
    "name": "ipython",
    "version": 2
   },
   "file_extension": ".py",
   "mimetype": "text/x-python",
   "name": "python",
   "nbconvert_exporter": "python",
   "pygments_lexer": "ipython2",
   "version": "2.7.13"
  }
 },
 "nbformat": 4,
 "nbformat_minor": 2
}
